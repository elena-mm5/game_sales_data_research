{
 "cells": [
  {
   "cell_type": "markdown",
   "metadata": {},
   "source": [
    "# Исследование данных о продаже игр\n",
    "\n",
    "\n",
    "\n",
    "\n",
    "Интернет-магазин «Стримчик» продаёт по всему миру компьютерные игры. Из открытых источников доступны исторические данные до 2016 года о продажах игр, оценки пользователей и экспертов, жанры и платформы (например, Xbox или PlayStation).\n",
    "\n",
    "Описание данных:\n",
    "\n",
    "- `Name` — название игры\n",
    "- `Platform` — платформа\n",
    "- `Year_of_Release` — год выпуска\n",
    "- `Genre` — жанр игры\n",
    "- `NA_sales` — продажи в Северной Америке (миллионы проданных копий)\n",
    "- `EU_sales` — продажи в Европе (миллионы проданных копий)\n",
    "- `JP_sales` — продажи в Японии (миллионы проданных копий)\n",
    "- `Other_sales` — продажи в других странах (миллионы проданных копий)\n",
    "- `Critic_Score` — оценка критиков (максимум 100)\n",
    "- `User_Score` — оценка пользователей (максимум 10)\n",
    "- `Rating` — рейтинг от организации ESRB (англ. Entertainment Software Rating Board). Эта ассоциация определяет рейтинг компьютерных игр и присваивает им подходящую возрастную категорию.\n",
    "\n",
    "Цель исследования:\n",
    "\n",
    "Выявить определяющие успешность игры закономерности, позволяющую сделать ставку на потенциально популярный продукт и спланировать рекламные кампании.\n",
    "\n",
    "Ход исследования:\n",
    "\n",
    "Данные о недвижимости находятся в файле '/datasets/games.csv'. Данное исследование пройдет в несколько этапов:\n",
    "\n",
    "- Обзор данных;\n",
    "- Предобработка данных;\n",
    "- Расчеты и добавление результатов в таблицу;\n",
    "- Проведение исследовательского анализа данных;\n",
    "- Проверка гипотез;\n",
    "- Написание общего вывода."
   ]
  },
  {
   "cell_type": "code",
   "execution_count": 66,
   "metadata": {},
   "outputs": [],
   "source": [
    "import pandas as pd\n",
    "import numpy as np\n",
    "import matplotlib.pyplot as plt\n",
    "\n",
    "from scipy.stats import levene\n",
    "from scipy.stats import ttest_ind\n",
    "from scipy import stats "
   ]
  },
  {
   "cell_type": "code",
   "execution_count": 67,
   "metadata": {},
   "outputs": [
    {
     "data": {
      "text/html": [
       "<div>\n",
       "<style scoped>\n",
       "    .dataframe tbody tr th:only-of-type {\n",
       "        vertical-align: middle;\n",
       "    }\n",
       "\n",
       "    .dataframe tbody tr th {\n",
       "        vertical-align: top;\n",
       "    }\n",
       "\n",
       "    .dataframe thead th {\n",
       "        text-align: right;\n",
       "    }\n",
       "</style>\n",
       "<table border=\"1\" class=\"dataframe\">\n",
       "  <thead>\n",
       "    <tr style=\"text-align: right;\">\n",
       "      <th></th>\n",
       "      <th>Name</th>\n",
       "      <th>Platform</th>\n",
       "      <th>Year_of_Release</th>\n",
       "      <th>Genre</th>\n",
       "      <th>NA_sales</th>\n",
       "      <th>EU_sales</th>\n",
       "      <th>JP_sales</th>\n",
       "      <th>Other_sales</th>\n",
       "      <th>Critic_Score</th>\n",
       "      <th>User_Score</th>\n",
       "      <th>Rating</th>\n",
       "    </tr>\n",
       "  </thead>\n",
       "  <tbody>\n",
       "    <tr>\n",
       "      <th>0</th>\n",
       "      <td>Wii Sports</td>\n",
       "      <td>Wii</td>\n",
       "      <td>2006.0</td>\n",
       "      <td>Sports</td>\n",
       "      <td>41.36</td>\n",
       "      <td>28.96</td>\n",
       "      <td>3.77</td>\n",
       "      <td>8.45</td>\n",
       "      <td>76.0</td>\n",
       "      <td>8</td>\n",
       "      <td>E</td>\n",
       "    </tr>\n",
       "    <tr>\n",
       "      <th>1</th>\n",
       "      <td>Super Mario Bros.</td>\n",
       "      <td>NES</td>\n",
       "      <td>1985.0</td>\n",
       "      <td>Platform</td>\n",
       "      <td>29.08</td>\n",
       "      <td>3.58</td>\n",
       "      <td>6.81</td>\n",
       "      <td>0.77</td>\n",
       "      <td>NaN</td>\n",
       "      <td>NaN</td>\n",
       "      <td>NaN</td>\n",
       "    </tr>\n",
       "    <tr>\n",
       "      <th>2</th>\n",
       "      <td>Mario Kart Wii</td>\n",
       "      <td>Wii</td>\n",
       "      <td>2008.0</td>\n",
       "      <td>Racing</td>\n",
       "      <td>15.68</td>\n",
       "      <td>12.76</td>\n",
       "      <td>3.79</td>\n",
       "      <td>3.29</td>\n",
       "      <td>82.0</td>\n",
       "      <td>8.3</td>\n",
       "      <td>E</td>\n",
       "    </tr>\n",
       "    <tr>\n",
       "      <th>3</th>\n",
       "      <td>Wii Sports Resort</td>\n",
       "      <td>Wii</td>\n",
       "      <td>2009.0</td>\n",
       "      <td>Sports</td>\n",
       "      <td>15.61</td>\n",
       "      <td>10.93</td>\n",
       "      <td>3.28</td>\n",
       "      <td>2.95</td>\n",
       "      <td>80.0</td>\n",
       "      <td>8</td>\n",
       "      <td>E</td>\n",
       "    </tr>\n",
       "    <tr>\n",
       "      <th>4</th>\n",
       "      <td>Pokemon Red/Pokemon Blue</td>\n",
       "      <td>GB</td>\n",
       "      <td>1996.0</td>\n",
       "      <td>Role-Playing</td>\n",
       "      <td>11.27</td>\n",
       "      <td>8.89</td>\n",
       "      <td>10.22</td>\n",
       "      <td>1.00</td>\n",
       "      <td>NaN</td>\n",
       "      <td>NaN</td>\n",
       "      <td>NaN</td>\n",
       "    </tr>\n",
       "  </tbody>\n",
       "</table>\n",
       "</div>"
      ],
      "text/plain": [
       "                       Name Platform  Year_of_Release         Genre  NA_sales  \\\n",
       "0                Wii Sports      Wii           2006.0        Sports     41.36   \n",
       "1         Super Mario Bros.      NES           1985.0      Platform     29.08   \n",
       "2            Mario Kart Wii      Wii           2008.0        Racing     15.68   \n",
       "3         Wii Sports Resort      Wii           2009.0        Sports     15.61   \n",
       "4  Pokemon Red/Pokemon Blue       GB           1996.0  Role-Playing     11.27   \n",
       "\n",
       "   EU_sales  JP_sales  Other_sales  Critic_Score User_Score Rating  \n",
       "0     28.96      3.77         8.45          76.0          8      E  \n",
       "1      3.58      6.81         0.77           NaN        NaN    NaN  \n",
       "2     12.76      3.79         3.29          82.0        8.3      E  \n",
       "3     10.93      3.28         2.95          80.0          8      E  \n",
       "4      8.89     10.22         1.00           NaN        NaN    NaN  "
      ]
     },
     "execution_count": 67,
     "metadata": {},
     "output_type": "execute_result"
    }
   ],
   "source": [
    "data = pd.read_csv('/datasets/games.csv')\n",
    "data.head(5)"
   ]
  },
  {
   "cell_type": "markdown",
   "metadata": {},
   "source": [
    "## Обработка данных"
   ]
  },
  {
   "cell_type": "code",
   "execution_count": 68,
   "metadata": {},
   "outputs": [
    {
     "name": "stdout",
     "output_type": "stream",
     "text": [
      "<class 'pandas.core.frame.DataFrame'>\n",
      "RangeIndex: 16715 entries, 0 to 16714\n",
      "Data columns (total 11 columns):\n",
      " #   Column           Non-Null Count  Dtype  \n",
      "---  ------           --------------  -----  \n",
      " 0   Name             16713 non-null  object \n",
      " 1   Platform         16715 non-null  object \n",
      " 2   Year_of_Release  16446 non-null  float64\n",
      " 3   Genre            16713 non-null  object \n",
      " 4   NA_sales         16715 non-null  float64\n",
      " 5   EU_sales         16715 non-null  float64\n",
      " 6   JP_sales         16715 non-null  float64\n",
      " 7   Other_sales      16715 non-null  float64\n",
      " 8   Critic_Score     8137 non-null   float64\n",
      " 9   User_Score       10014 non-null  object \n",
      " 10  Rating           9949 non-null   object \n",
      "dtypes: float64(6), object(5)\n",
      "memory usage: 1.4+ MB\n"
     ]
    }
   ],
   "source": [
    "data.info()"
   ]
  },
  {
   "cell_type": "markdown",
   "metadata": {},
   "source": [
    "По данной информации можно увидеть некорректные наименования столбцов, пропуски и неверные типы данных. Так же, тип данных 'object' в столбце 'User_Score' говорит о том, что там есть строки."
   ]
  },
  {
   "cell_type": "code",
   "execution_count": 69,
   "metadata": {},
   "outputs": [
    {
     "data": {
      "text/plain": [
       "Name                  2\n",
       "Platform              0\n",
       "Year_of_Release     269\n",
       "Genre                 2\n",
       "NA_sales              0\n",
       "EU_sales              0\n",
       "JP_sales              0\n",
       "Other_sales           0\n",
       "Critic_Score       8578\n",
       "User_Score         6701\n",
       "Rating             6766\n",
       "dtype: int64"
      ]
     },
     "execution_count": 69,
     "metadata": {},
     "output_type": "execute_result"
    }
   ],
   "source": [
    "data.isna().sum()"
   ]
  },
  {
   "cell_type": "markdown",
   "metadata": {},
   "source": [
    "В двух столбцах (Name и Year_of_Release) наблюдается небольшое количество пропусков относительно датасета. Их можно удалить. \n",
    "А вот в трех столбцах (Critic_Score, User_Score, Rating) очень много пропусков, которые возникли, возможно, из-за того, что данную игру никто не оценивал или же из-за технической ошибки при выгрузки данных. "
   ]
  },
  {
   "cell_type": "markdown",
   "metadata": {},
   "source": [
    "Приведем наименования столбцов к нижнему регистру, удалим строки с пропусками в двух столбцах (Name и Year_of_Release), приведем столбец 'User_Score' к типу float и столбец 'Year_of_Release' приведем к типу int."
   ]
  },
  {
   "cell_type": "code",
   "execution_count": 70,
   "metadata": {},
   "outputs": [],
   "source": [
    "data.columns = data.columns.str.lower()\n",
    "data.dropna(subset=['year_of_release'], inplace=True)\n",
    "data.dropna(subset=['name'], inplace=True)\n",
    "data.year_of_release = data.year_of_release.astype(np.int64)"
   ]
  },
  {
   "cell_type": "code",
   "execution_count": 71,
   "metadata": {},
   "outputs": [
    {
     "data": {
      "text/plain": [
       "array(['8', nan, '8.3', '8.5', '6.6', '8.4', '8.6', '7.7', '6.3', '7.4',\n",
       "       '8.2', '9', '7.9', '8.1', '8.7', '7.1', '3.4', '5.3', '4.8', '3.2',\n",
       "       '8.9', '6.4', '7.8', '7.5', '2.6', '7.2', '9.2', '7', '7.3', '4.3',\n",
       "       '7.6', '5.7', '5', '9.1', '6.5', 'tbd', '8.8', '6.9', '9.4', '6.8',\n",
       "       '6.1', '6.7', '5.4', '4', '4.9', '4.5', '9.3', '6.2', '4.2', '6',\n",
       "       '3.7', '4.1', '5.8', '5.6', '5.5', '4.4', '4.6', '5.9', '3.9',\n",
       "       '3.1', '2.9', '5.2', '3.3', '4.7', '5.1', '3.5', '2.5', '1.9', '3',\n",
       "       '2.7', '2.2', '2', '9.5', '2.1', '3.6', '2.8', '1.8', '3.8', '0',\n",
       "       '1.6', '9.6', '2.4', '1.7', '1.1', '0.3', '1.5', '0.7', '1.2',\n",
       "       '2.3', '0.5', '1.3', '0.2', '0.6', '1.4', '0.9', '1', '9.7'],\n",
       "      dtype=object)"
      ]
     },
     "execution_count": 71,
     "metadata": {},
     "output_type": "execute_result"
    }
   ],
   "source": [
    "data['user_score'].unique()"
   ]
  },
  {
   "cell_type": "markdown",
   "metadata": {},
   "source": [
    "В столбце 'user_score' присутствует аббревиатура 'tbd', что означает 'to be determined (будет определено)'. Это значит, что оценки будут определены позже. Поэтому данное значение можно заменить на NaN. "
   ]
  },
  {
   "cell_type": "code",
   "execution_count": 72,
   "metadata": {},
   "outputs": [],
   "source": [
    "data['user_score']=data['user_score'].replace('tbd',np.nan)\n",
    "data.user_score = data.user_score.astype(np.float64)"
   ]
  },
  {
   "cell_type": "markdown",
   "metadata": {},
   "source": [
    "Далее, проверим данные на дубликаты."
   ]
  },
  {
   "cell_type": "code",
   "execution_count": 73,
   "metadata": {},
   "outputs": [
    {
     "data": {
      "text/plain": [
       "0"
      ]
     },
     "execution_count": 73,
     "metadata": {},
     "output_type": "execute_result"
    }
   ],
   "source": [
    "data.duplicated().sum()"
   ]
  },
  {
   "cell_type": "code",
   "execution_count": 74,
   "metadata": {},
   "outputs": [
    {
     "data": {
      "text/plain": [
       "array(['Wii Sports', 'Super Mario Bros.', 'Mario Kart Wii', ...,\n",
       "       'Woody Woodpecker in Crazy Castle 5', 'LMA Manager 2007',\n",
       "       'Haitaka no Psychedelica'], dtype=object)"
      ]
     },
     "execution_count": 74,
     "metadata": {},
     "output_type": "execute_result"
    }
   ],
   "source": [
    "data['name'].unique()"
   ]
  },
  {
   "cell_type": "markdown",
   "metadata": {},
   "source": [
    "На данном этапе были предобработаны данные, а именно:\n",
    "\n",
    "1) Исправлены некорректные наименования столбцов;\n",
    "\n",
    "2) Убрали пропуски (там, где это возможно);\n",
    "\n",
    "3) Привели значения к нужным типам данным;\n",
    "\n",
    "4) Проверили на явные дубликаты.\n",
    "\n",
    "Пропуски в столбцах \"critic_score\", \"user_score\" и \"rating\" пока оставили, т.к. они могли возникнуть из-за того, что данные игры еще никто не оценивал."
   ]
  },
  {
   "cell_type": "markdown",
   "metadata": {},
   "source": [
    "## Исследовательский анализ данных"
   ]
  },
  {
   "cell_type": "markdown",
   "metadata": {},
   "source": [
    "Для дальнейшего исследования, необходимо посчитать суммарные продажи во всех регионах. Для этого создадим новый столбец. "
   ]
  },
  {
   "cell_type": "code",
   "execution_count": 75,
   "metadata": {},
   "outputs": [],
   "source": [
    "data['total_sales'] = data[['na_sales','eu_sales','jp_sales', 'other_sales']].sum(axis = 1)"
   ]
  },
  {
   "cell_type": "code",
   "execution_count": 76,
   "metadata": {},
   "outputs": [
    {
     "data": {
      "text/html": [
       "<div>\n",
       "<style scoped>\n",
       "    .dataframe tbody tr th:only-of-type {\n",
       "        vertical-align: middle;\n",
       "    }\n",
       "\n",
       "    .dataframe tbody tr th {\n",
       "        vertical-align: top;\n",
       "    }\n",
       "\n",
       "    .dataframe thead th {\n",
       "        text-align: right;\n",
       "    }\n",
       "</style>\n",
       "<table border=\"1\" class=\"dataframe\">\n",
       "  <thead>\n",
       "    <tr style=\"text-align: right;\">\n",
       "      <th></th>\n",
       "      <th>name</th>\n",
       "      <th>platform</th>\n",
       "      <th>year_of_release</th>\n",
       "      <th>genre</th>\n",
       "      <th>na_sales</th>\n",
       "      <th>eu_sales</th>\n",
       "      <th>jp_sales</th>\n",
       "      <th>other_sales</th>\n",
       "      <th>critic_score</th>\n",
       "      <th>user_score</th>\n",
       "      <th>rating</th>\n",
       "      <th>total_sales</th>\n",
       "    </tr>\n",
       "  </thead>\n",
       "  <tbody>\n",
       "    <tr>\n",
       "      <th>0</th>\n",
       "      <td>Wii Sports</td>\n",
       "      <td>Wii</td>\n",
       "      <td>2006</td>\n",
       "      <td>Sports</td>\n",
       "      <td>41.36</td>\n",
       "      <td>28.96</td>\n",
       "      <td>3.77</td>\n",
       "      <td>8.45</td>\n",
       "      <td>76.0</td>\n",
       "      <td>8.0</td>\n",
       "      <td>E</td>\n",
       "      <td>82.54</td>\n",
       "    </tr>\n",
       "    <tr>\n",
       "      <th>1</th>\n",
       "      <td>Super Mario Bros.</td>\n",
       "      <td>NES</td>\n",
       "      <td>1985</td>\n",
       "      <td>Platform</td>\n",
       "      <td>29.08</td>\n",
       "      <td>3.58</td>\n",
       "      <td>6.81</td>\n",
       "      <td>0.77</td>\n",
       "      <td>NaN</td>\n",
       "      <td>NaN</td>\n",
       "      <td>NaN</td>\n",
       "      <td>40.24</td>\n",
       "    </tr>\n",
       "    <tr>\n",
       "      <th>2</th>\n",
       "      <td>Mario Kart Wii</td>\n",
       "      <td>Wii</td>\n",
       "      <td>2008</td>\n",
       "      <td>Racing</td>\n",
       "      <td>15.68</td>\n",
       "      <td>12.76</td>\n",
       "      <td>3.79</td>\n",
       "      <td>3.29</td>\n",
       "      <td>82.0</td>\n",
       "      <td>8.3</td>\n",
       "      <td>E</td>\n",
       "      <td>35.52</td>\n",
       "    </tr>\n",
       "    <tr>\n",
       "      <th>3</th>\n",
       "      <td>Wii Sports Resort</td>\n",
       "      <td>Wii</td>\n",
       "      <td>2009</td>\n",
       "      <td>Sports</td>\n",
       "      <td>15.61</td>\n",
       "      <td>10.93</td>\n",
       "      <td>3.28</td>\n",
       "      <td>2.95</td>\n",
       "      <td>80.0</td>\n",
       "      <td>8.0</td>\n",
       "      <td>E</td>\n",
       "      <td>32.77</td>\n",
       "    </tr>\n",
       "    <tr>\n",
       "      <th>4</th>\n",
       "      <td>Pokemon Red/Pokemon Blue</td>\n",
       "      <td>GB</td>\n",
       "      <td>1996</td>\n",
       "      <td>Role-Playing</td>\n",
       "      <td>11.27</td>\n",
       "      <td>8.89</td>\n",
       "      <td>10.22</td>\n",
       "      <td>1.00</td>\n",
       "      <td>NaN</td>\n",
       "      <td>NaN</td>\n",
       "      <td>NaN</td>\n",
       "      <td>31.38</td>\n",
       "    </tr>\n",
       "  </tbody>\n",
       "</table>\n",
       "</div>"
      ],
      "text/plain": [
       "                       name platform  year_of_release         genre  na_sales  \\\n",
       "0                Wii Sports      Wii             2006        Sports     41.36   \n",
       "1         Super Mario Bros.      NES             1985      Platform     29.08   \n",
       "2            Mario Kart Wii      Wii             2008        Racing     15.68   \n",
       "3         Wii Sports Resort      Wii             2009        Sports     15.61   \n",
       "4  Pokemon Red/Pokemon Blue       GB             1996  Role-Playing     11.27   \n",
       "\n",
       "   eu_sales  jp_sales  other_sales  critic_score  user_score rating  \\\n",
       "0     28.96      3.77         8.45          76.0         8.0      E   \n",
       "1      3.58      6.81         0.77           NaN         NaN    NaN   \n",
       "2     12.76      3.79         3.29          82.0         8.3      E   \n",
       "3     10.93      3.28         2.95          80.0         8.0      E   \n",
       "4      8.89     10.22         1.00           NaN         NaN    NaN   \n",
       "\n",
       "   total_sales  \n",
       "0        82.54  \n",
       "1        40.24  \n",
       "2        35.52  \n",
       "3        32.77  \n",
       "4        31.38  "
      ]
     },
     "execution_count": 76,
     "metadata": {},
     "output_type": "execute_result"
    }
   ],
   "source": [
    "data.head(5)"
   ]
  },
  {
   "cell_type": "markdown",
   "metadata": {},
   "source": [
    "Рассмотрим на графике сколько игр выпускалось в разные годы. "
   ]
  },
  {
   "cell_type": "code",
   "execution_count": 77,
   "metadata": {},
   "outputs": [
    {
     "data": {
      "text/plain": [
       "<AxesSubplot:title={'center':'Количество выпущенных игр в год'}, xlabel='Год релиза', ylabel='Количество игр'>"
      ]
     },
     "execution_count": 77,
     "metadata": {},
     "output_type": "execute_result"
    },
    {
     "data": {
      "image/png": "[encoded data removed]",
      "text/plain": [
       "<Figure size 1080x504 with 1 Axes>"
      ]
     },
     "metadata": {
      "needs_background": "light"
     },
     "output_type": "display_data"
    }
   ],
   "source": [
    "data.groupby('year_of_release')['year_of_release'].count().plot(kind='bar', \n",
    "                                                                figsize=(15,7), \n",
    "                                                                title='Количество выпущенных игр в год', \n",
    "                                                                xlabel='Год релиза',\n",
    "                                                                ylabel='Количество игр')"
   ]
  },
  {
   "cell_type": "markdown",
   "metadata": {},
   "source": [
    "На графике видно, что, начиная с 1990 года компьютерные игры стали набирать обороты. В это время индустрия начала расти, был переход от растровой графики к полностью полигональному 3D, началось снижение популярности аркадных игр и появление нескольких новых жанров - шутер от первого лица, стратегия в реальном времени и MMO (статья из Wiki). \n",
    "\n",
    "После 2009 года можно наблюдать спад в реализации компьютерных игр, т.к. в это время стала расти популярность в мобильных приложениях, разработчики начали вкладывать больше времени и денег в разработку для мобильных платформ, таких как смартфоны и планшеты, а не для ПК или консольных платформ."
   ]
  },
  {
   "cell_type": "markdown",
   "metadata": {},
   "source": [
    "Далее, рассмотрим как менялись продажи по платформам."
   ]
  },
  {
   "cell_type": "code",
   "execution_count": 78,
   "metadata": {},
   "outputs": [
    {
     "data": {
      "text/html": [
       "<div>\n",
       "<style scoped>\n",
       "    .dataframe tbody tr th:only-of-type {\n",
       "        vertical-align: middle;\n",
       "    }\n",
       "\n",
       "    .dataframe tbody tr th {\n",
       "        vertical-align: top;\n",
       "    }\n",
       "\n",
       "    .dataframe thead th {\n",
       "        text-align: right;\n",
       "    }\n",
       "</style>\n",
       "<table border=\"1\" class=\"dataframe\">\n",
       "  <thead>\n",
       "    <tr style=\"text-align: right;\">\n",
       "      <th></th>\n",
       "      <th>total_sales</th>\n",
       "    </tr>\n",
       "    <tr>\n",
       "      <th>platform</th>\n",
       "      <th></th>\n",
       "    </tr>\n",
       "  </thead>\n",
       "  <tbody>\n",
       "    <tr>\n",
       "      <th>PS2</th>\n",
       "      <td>1233.56</td>\n",
       "    </tr>\n",
       "    <tr>\n",
       "      <th>X360</th>\n",
       "      <td>961.24</td>\n",
       "    </tr>\n",
       "    <tr>\n",
       "      <th>PS3</th>\n",
       "      <td>931.34</td>\n",
       "    </tr>\n",
       "    <tr>\n",
       "      <th>Wii</th>\n",
       "      <td>891.18</td>\n",
       "    </tr>\n",
       "    <tr>\n",
       "      <th>DS</th>\n",
       "      <td>802.78</td>\n",
       "    </tr>\n",
       "    <tr>\n",
       "      <th>PS</th>\n",
       "      <td>727.58</td>\n",
       "    </tr>\n",
       "    <tr>\n",
       "      <th>PS4</th>\n",
       "      <td>314.14</td>\n",
       "    </tr>\n",
       "    <tr>\n",
       "      <th>GBA</th>\n",
       "      <td>312.88</td>\n",
       "    </tr>\n",
       "    <tr>\n",
       "      <th>PSP</th>\n",
       "      <td>289.53</td>\n",
       "    </tr>\n",
       "    <tr>\n",
       "      <th>3DS</th>\n",
       "      <td>257.81</td>\n",
       "    </tr>\n",
       "  </tbody>\n",
       "</table>\n",
       "</div>"
      ],
      "text/plain": [
       "          total_sales\n",
       "platform             \n",
       "PS2           1233.56\n",
       "X360           961.24\n",
       "PS3            931.34\n",
       "Wii            891.18\n",
       "DS             802.78\n",
       "PS             727.58\n",
       "PS4            314.14\n",
       "GBA            312.88\n",
       "PSP            289.53\n",
       "3DS            257.81"
      ]
     },
     "execution_count": 78,
     "metadata": {},
     "output_type": "execute_result"
    }
   ],
   "source": [
    "best_platform=data.pivot_table(index='platform',values='total_sales',aggfunc='sum') \\\n",
    "                        .sort_values(by='total_sales',ascending=False)\n",
    "best_platform.head(10)"
   ]
  },
  {
   "cell_type": "markdown",
   "metadata": {},
   "source": [
    "PS2 является самой популярной платформой, т.к. у нее самая большая библиотека игр и самый широкий выбор жанров, так же она имела доступную цену, что делало ее доступной для большего количества людей."
   ]
  },
  {
   "cell_type": "markdown",
   "metadata": {},
   "source": [
    "Далее, выберем платформы 5 платформ с наибольшими суммарными продажами и построим распределение по годам. "
   ]
  },
  {
   "cell_type": "code",
   "execution_count": 79,
   "metadata": {},
   "outputs": [
    {
     "data": {
      "image/png": "[encoded data removed]",
      "text/plain": [
       "<Figure size 1080x360 with 1 Axes>"
      ]
     },
     "metadata": {
      "needs_background": "light"
     },
     "output_type": "display_data"
    },
    {
     "data": {
      "image/png": "[encoded data removed]",
      "text/plain": [
       "<Figure size 1080x360 with 1 Axes>"
      ]
     },
     "metadata": {
      "needs_background": "light"
     },
     "output_type": "display_data"
    },
    {
     "data": {
      "image/png": "[encoded data removed]",
      "text/plain": [
       "<Figure size 1080x360 with 1 Axes>"
      ]
     },
     "metadata": {
      "needs_background": "light"
     },
     "output_type": "display_data"
    },
    {
     "data": {
      "image/png": "[encoded data removed]",
      "text/plain": [
       "<Figure size 1080x360 with 1 Axes>"
      ]
     },
     "metadata": {
      "needs_background": "light"
     },
     "output_type": "display_data"
    },
    {
     "data": {
      "image/png": "[encoded data removed]",
      "text/plain": [
       "<Figure size 1080x360 with 1 Axes>"
      ]
     },
     "metadata": {
      "needs_background": "light"
     },
     "output_type": "display_data"
    }
   ],
   "source": [
    "for index in best_platform[:5].index:\n",
    "    data.query('platform ==@index').pivot_table(index=['year_of_release'],values='total_sales',aggfunc='sum') \\\n",
    "    .sort_values(by='year_of_release',ascending=True) \\\n",
    "    .plot(kind='bar', xlabel='Год релиза', ylabel='Сумма продаж', figsize=(15,5), grid=True)\n",
    "    plt.title(index)\n",
    "    plt.show()"
   ]
  },
  {
   "cell_type": "markdown",
   "metadata": {},
   "source": [
    "По данным графикам можно сделать вывод о том, что характерный срок для платформы от \"зарождения\" длится примерно 10-11 лет. "
   ]
  },
  {
   "cell_type": "markdown",
   "metadata": {},
   "source": [
    "Актуальный период для исследования возьмем последние 3 года, т.к. в 2013 году идет активный спад актуальных на то время платформ."
   ]
  },
  {
   "cell_type": "code",
   "execution_count": 80,
   "metadata": {},
   "outputs": [],
   "source": [
    "data_actual_period = data.query('year_of_release >= 2013')"
   ]
  },
  {
   "cell_type": "code",
   "execution_count": 81,
   "metadata": {},
   "outputs": [
    {
     "data": {
      "text/html": [
       "<div>\n",
       "<style scoped>\n",
       "    .dataframe tbody tr th:only-of-type {\n",
       "        vertical-align: middle;\n",
       "    }\n",
       "\n",
       "    .dataframe tbody tr th {\n",
       "        vertical-align: top;\n",
       "    }\n",
       "\n",
       "    .dataframe thead th {\n",
       "        text-align: right;\n",
       "    }\n",
       "</style>\n",
       "<table border=\"1\" class=\"dataframe\">\n",
       "  <thead>\n",
       "    <tr style=\"text-align: right;\">\n",
       "      <th></th>\n",
       "      <th>total_sales</th>\n",
       "    </tr>\n",
       "    <tr>\n",
       "      <th>platform</th>\n",
       "      <th></th>\n",
       "    </tr>\n",
       "  </thead>\n",
       "  <tbody>\n",
       "    <tr>\n",
       "      <th>PS4</th>\n",
       "      <td>314.14</td>\n",
       "    </tr>\n",
       "    <tr>\n",
       "      <th>PS3</th>\n",
       "      <td>181.43</td>\n",
       "    </tr>\n",
       "    <tr>\n",
       "      <th>XOne</th>\n",
       "      <td>159.32</td>\n",
       "    </tr>\n",
       "    <tr>\n",
       "      <th>3DS</th>\n",
       "      <td>143.25</td>\n",
       "    </tr>\n",
       "    <tr>\n",
       "      <th>X360</th>\n",
       "      <td>136.80</td>\n",
       "    </tr>\n",
       "  </tbody>\n",
       "</table>\n",
       "</div>"
      ],
      "text/plain": [
       "          total_sales\n",
       "platform             \n",
       "PS4            314.14\n",
       "PS3            181.43\n",
       "XOne           159.32\n",
       "3DS            143.25\n",
       "X360           136.80"
      ]
     },
     "execution_count": 81,
     "metadata": {},
     "output_type": "execute_result"
    }
   ],
   "source": [
    "data_best_platform_actual_period = data_actual_period.pivot_table(index='platform',values='total_sales',aggfunc='sum') \\\n",
    "                        .sort_values(by='total_sales',ascending=False).head(5)\n",
    "data_best_platform_actual_period"
   ]
  },
  {
   "cell_type": "code",
   "execution_count": 82,
   "metadata": {},
   "outputs": [],
   "source": [
    "pivot_table_platform = pd.pivot_table(data_actual_period, \n",
    "                                       index='year_of_release', \n",
    "                                       values='total_sales',  \n",
    "                                       columns=['platform'], \n",
    "                                       aggfunc=['sum'])"
   ]
  },
  {
   "cell_type": "code",
   "execution_count": 83,
   "metadata": {},
   "outputs": [
    {
     "data": {
      "text/html": [
       "<div>\n",
       "<style scoped>\n",
       "    .dataframe tbody tr th:only-of-type {\n",
       "        vertical-align: middle;\n",
       "    }\n",
       "\n",
       "    .dataframe tbody tr th {\n",
       "        vertical-align: top;\n",
       "    }\n",
       "\n",
       "    .dataframe thead tr th {\n",
       "        text-align: left;\n",
       "    }\n",
       "\n",
       "    .dataframe thead tr:last-of-type th {\n",
       "        text-align: right;\n",
       "    }\n",
       "</style>\n",
       "<table border=\"1\" class=\"dataframe\">\n",
       "  <thead>\n",
       "    <tr>\n",
       "      <th></th>\n",
       "      <th colspan=\"11\" halign=\"left\">sum</th>\n",
       "    </tr>\n",
       "    <tr>\n",
       "      <th>platform</th>\n",
       "      <th>3DS</th>\n",
       "      <th>DS</th>\n",
       "      <th>PC</th>\n",
       "      <th>PS3</th>\n",
       "      <th>PS4</th>\n",
       "      <th>PSP</th>\n",
       "      <th>PSV</th>\n",
       "      <th>Wii</th>\n",
       "      <th>WiiU</th>\n",
       "      <th>X360</th>\n",
       "      <th>XOne</th>\n",
       "    </tr>\n",
       "    <tr>\n",
       "      <th>year_of_release</th>\n",
       "      <th></th>\n",
       "      <th></th>\n",
       "      <th></th>\n",
       "      <th></th>\n",
       "      <th></th>\n",
       "      <th></th>\n",
       "      <th></th>\n",
       "      <th></th>\n",
       "      <th></th>\n",
       "      <th></th>\n",
       "      <th></th>\n",
       "    </tr>\n",
       "  </thead>\n",
       "  <tbody>\n",
       "    <tr>\n",
       "      <th>2013</th>\n",
       "      <td>56.57</td>\n",
       "      <td>1.54</td>\n",
       "      <td>12.38</td>\n",
       "      <td>113.25</td>\n",
       "      <td>25.99</td>\n",
       "      <td>3.14</td>\n",
       "      <td>10.59</td>\n",
       "      <td>8.59</td>\n",
       "      <td>21.65</td>\n",
       "      <td>88.58</td>\n",
       "      <td>18.96</td>\n",
       "    </tr>\n",
       "    <tr>\n",
       "      <th>2014</th>\n",
       "      <td>43.76</td>\n",
       "      <td>NaN</td>\n",
       "      <td>13.28</td>\n",
       "      <td>47.76</td>\n",
       "      <td>100.00</td>\n",
       "      <td>0.24</td>\n",
       "      <td>11.90</td>\n",
       "      <td>3.75</td>\n",
       "      <td>22.03</td>\n",
       "      <td>34.74</td>\n",
       "      <td>54.07</td>\n",
       "    </tr>\n",
       "    <tr>\n",
       "      <th>2015</th>\n",
       "      <td>27.78</td>\n",
       "      <td>NaN</td>\n",
       "      <td>8.52</td>\n",
       "      <td>16.82</td>\n",
       "      <td>118.90</td>\n",
       "      <td>0.12</td>\n",
       "      <td>6.25</td>\n",
       "      <td>1.14</td>\n",
       "      <td>16.35</td>\n",
       "      <td>11.96</td>\n",
       "      <td>60.14</td>\n",
       "    </tr>\n",
       "    <tr>\n",
       "      <th>2016</th>\n",
       "      <td>15.14</td>\n",
       "      <td>NaN</td>\n",
       "      <td>5.25</td>\n",
       "      <td>3.60</td>\n",
       "      <td>69.25</td>\n",
       "      <td>NaN</td>\n",
       "      <td>4.25</td>\n",
       "      <td>0.18</td>\n",
       "      <td>4.60</td>\n",
       "      <td>1.52</td>\n",
       "      <td>26.15</td>\n",
       "    </tr>\n",
       "  </tbody>\n",
       "</table>\n",
       "</div>"
      ],
      "text/plain": [
       "                   sum                                                         \\\n",
       "platform           3DS    DS     PC     PS3     PS4   PSP    PSV   Wii   WiiU   \n",
       "year_of_release                                                                 \n",
       "2013             56.57  1.54  12.38  113.25   25.99  3.14  10.59  8.59  21.65   \n",
       "2014             43.76   NaN  13.28   47.76  100.00  0.24  11.90  3.75  22.03   \n",
       "2015             27.78   NaN   8.52   16.82  118.90  0.12   6.25  1.14  16.35   \n",
       "2016             15.14   NaN   5.25    3.60   69.25   NaN   4.25  0.18   4.60   \n",
       "\n",
       "                               \n",
       "platform          X360   XOne  \n",
       "year_of_release                \n",
       "2013             88.58  18.96  \n",
       "2014             34.74  54.07  \n",
       "2015             11.96  60.14  \n",
       "2016              1.52  26.15  "
      ]
     },
     "execution_count": 83,
     "metadata": {},
     "output_type": "execute_result"
    }
   ],
   "source": [
    "pivot_table_platform"
   ]
  },
  {
   "cell_type": "code",
   "execution_count": 84,
   "metadata": {},
   "outputs": [
    {
     "data": {
      "image/png": "[encoded data removed]",
      "text/plain": [
       "<Figure size 1080x360 with 1 Axes>"
      ]
     },
     "metadata": {
      "needs_background": "light"
     },
     "output_type": "display_data"
    }
   ],
   "source": [
    "pivot_table_platform.plot(kind='bar', \n",
    "                          figsize=(15, 5), \n",
    "                          title='Продажи игр по платформам и годам релиза',\n",
    "                          xlabel='Год релиза',\n",
    "                          ylabel='Сумма продаж')\n",
    "plt.show()"
   ]
  },
  {
   "cell_type": "markdown",
   "metadata": {},
   "source": [
    "По данному графику можно заметить, что в 2013 году лидировали такие платформы как PS3, X360 и 3DS, но уже в 2014 году вместо PS3 начала лидировать PS4, вместо X360 - XOne. Все из - за того, что новые платформы заменяют предыдущее поколонение старых платформ и предоставляют пользователям что-то новое и уникальное. 3DS так и осталась в тройке лидеров, но со временем все равно идет на спад. "
   ]
  },
  {
   "cell_type": "code",
   "execution_count": 85,
   "metadata": {},
   "outputs": [
    {
     "data": {
      "image/png": "[encoded data removed]",
      "text/plain": [
       "<Figure size 1440x720 with 1 Axes>"
      ]
     },
     "metadata": {
      "needs_background": "light"
     },
     "output_type": "display_data"
    }
   ],
   "source": [
    "data_actual_period.boxplot('total_sales',by='platform', figsize=(20,10)).set_ylim(0, 1)\n",
    "plt.ylim(0, 2)\n",
    "plt.title('Диаграмма размаха по глобальным продажам игр')\n",
    "plt.xlabel('Платформа')\n",
    "plt.ylabel('Продажи')\n",
    "plt.show()"
   ]
  },
  {
   "cell_type": "markdown",
   "metadata": {},
   "source": [
    "По данному графику можно наблюдать очень много выбросов, связано это с тем, что данные игры очень популярны среди пользователей.\n",
    "Наибольшие медианные продажи за данный период наблюдались у PS3, PS4, WiiU, Wii, XOne и X360. "
   ]
  },
  {
   "cell_type": "markdown",
   "metadata": {},
   "source": [
    "Далее, рассмотрим как влияют на продажи PS4 отзывы пользователей и критиков. "
   ]
  },
  {
   "cell_type": "code",
   "execution_count": 86,
   "metadata": {},
   "outputs": [],
   "source": [
    "score_ps4 = data_actual_period.query('platform == \"PS4\"')"
   ]
  },
  {
   "cell_type": "code",
   "execution_count": 87,
   "metadata": {},
   "outputs": [
    {
     "data": {
      "image/png": "[encoded data removed]",
      "text/plain": [
       "<Figure size 1080x360 with 1 Axes>"
      ]
     },
     "metadata": {
      "needs_background": "light"
     },
     "output_type": "display_data"
    },
    {
     "data": {
      "image/png": "[encoded data removed]",
      "text/plain": [
       "<Figure size 1080x360 with 1 Axes>"
      ]
     },
     "metadata": {
      "needs_background": "light"
     },
     "output_type": "display_data"
    }
   ],
   "source": [
    "score_ps4.plot(x='critic_score', \n",
    "                y='total_sales', \n",
    "                kind='scatter', \n",
    "                grid=True,\n",
    "                figsize=(15,5),\n",
    "                title='Оценка критиков',\n",
    "                xlabel='Оценка',\n",
    "                ylabel='Продажи')\n",
    "plt.show()\n",
    "\n",
    "score_ps4.plot(x='user_score', \n",
    "                y='total_sales', \n",
    "                kind='scatter', \n",
    "                grid=True,\n",
    "                figsize=(15,5),\n",
    "                title = 'Оценка пользователей',\n",
    "                xlabel='Оценка',\n",
    "                ylabel='Продажи')\n",
    "plt.show()"
   ]
  },
  {
   "cell_type": "markdown",
   "metadata": {},
   "source": [
    "По данным графикам можно сделать вывод о том, что чем лучше оценка, тем больше продаж. Далее, посчитаем корреляцию между отзывами и продажами."
   ]
  },
  {
   "cell_type": "code",
   "execution_count": 88,
   "metadata": {},
   "outputs": [
    {
     "name": "stdout",
     "output_type": "stream",
     "text": [
      "Продажи игр и оценка критиков: 0.406567902061781\n",
      "Продажи игр и оценка пользователей: -0.031957110204556376\n"
     ]
    }
   ],
   "source": [
    "print('Продажи игр и оценка критиков:', \n",
    "      score_ps4['total_sales'].corr(score_ps4['critic_score']))\n",
    "print('Продажи игр и оценка пользователей:',\n",
    "      score_ps4['total_sales'].corr(score_ps4['user_score']))"
   ]
  },
  {
   "cell_type": "markdown",
   "metadata": {},
   "source": [
    "На продажу игр оценка критиков влияет больше, чем оценка пользователей."
   ]
  },
  {
   "cell_type": "markdown",
   "metadata": {},
   "source": [
    "Далее, рассмотрим следующие платформы с наивысшими суммарными продажами."
   ]
  },
  {
   "cell_type": "code",
   "execution_count": 91,
   "metadata": {},
   "outputs": [],
   "source": [
    "platforms = ['PS3', 'PS4', 'XOne', '3DS','X360']"
   ]
  },
  {
   "cell_type": "code",
   "execution_count": 92,
   "metadata": {},
   "outputs": [
    {
     "data": {
      "image/png": "[encoded data removed]",
      "text/plain": [
       "<Figure size 1080x360 with 1 Axes>"
      ]
     },
     "metadata": {
      "needs_background": "light"
     },
     "output_type": "display_data"
    },
    {
     "data": {
      "image/png": "[encoded data removed]",
      "text/plain": [
       "<Figure size 1080x360 with 1 Axes>"
      ]
     },
     "metadata": {
      "needs_background": "light"
     },
     "output_type": "display_data"
    },
    {
     "data": {
      "image/png": "[encoded data removed]",
      "text/plain": [
       "<Figure size 1080x360 with 1 Axes>"
      ]
     },
     "metadata": {
      "needs_background": "light"
     },
     "output_type": "display_data"
    },
    {
     "data": {
      "image/png": "[encoded data removed]",
      "text/plain": [
       "<Figure size 1080x360 with 1 Axes>"
      ]
     },
     "metadata": {
      "needs_background": "light"
     },
     "output_type": "display_data"
    },
    {
     "data": {
      "image/png": "[encoded data removed]",
      "text/plain": [
       "<Figure size 1080x360 with 1 Axes>"
      ]
     },
     "metadata": {
      "needs_background": "light"
     },
     "output_type": "display_data"
    }
   ],
   "source": [
    "for platform in platforms:\n",
    "    data_actual_period.loc[data_actual_period['platform'] == platform].plot(x='critic_score', \n",
    "                y='total_sales', \n",
    "                kind='scatter', \n",
    "                grid=True,\n",
    "                figsize=(15,5),\n",
    "                title='Оценка критиков',\n",
    "                xlabel='Оценка',\n",
    "                ylabel='Продажи')\n",
    "plt.show()"
   ]
  },
  {
   "cell_type": "code",
   "execution_count": 93,
   "metadata": {},
   "outputs": [
    {
     "data": {
      "image/png": "[encoded data removed]",
      "text/plain": [
       "<Figure size 1080x360 with 1 Axes>"
      ]
     },
     "metadata": {
      "needs_background": "light"
     },
     "output_type": "display_data"
    },
    {
     "data": {
      "image/png": "[encoded data removed]",
      "text/plain": [
       "<Figure size 1080x360 with 1 Axes>"
      ]
     },
     "metadata": {
      "needs_background": "light"
     },
     "output_type": "display_data"
    },
    {
     "data": {
      "image/png": "[encoded data removed]",
      "text/plain": [
       "<Figure size 1080x360 with 1 Axes>"
      ]
     },
     "metadata": {
      "needs_background": "light"
     },
     "output_type": "display_data"
    },
    {
     "data": {
      "image/png": "[encoded data removed]",
      "text/plain": [
       "<Figure size 1080x360 with 1 Axes>"
      ]
     },
     "metadata": {
      "needs_background": "light"
     },
     "output_type": "display_data"
    },
    {
     "data": {
      "image/png": "[encoded data removed]",
      "text/plain": [
       "<Figure size 1080x360 with 1 Axes>"
      ]
     },
     "metadata": {
      "needs_background": "light"
     },
     "output_type": "display_data"
    }
   ],
   "source": [
    "for platform in platforms:\n",
    "    data_actual_period.loc[data_actual_period['platform'] == platform].plot(x='user_score', \n",
    "                y='total_sales', \n",
    "                kind='scatter', \n",
    "                grid=True,\n",
    "                figsize=(15,5),\n",
    "                title='Оценка пользователей',\n",
    "                xlabel='Оценка',\n",
    "                ylabel='Продажи')\n",
    "plt.show()"
   ]
  },
  {
   "cell_type": "code",
   "execution_count": 94,
   "metadata": {},
   "outputs": [
    {
     "name": "stdout",
     "output_type": "stream",
     "text": [
      "PS3\n"
     ]
    },
    {
     "data": {
      "text/html": [
       "<div>\n",
       "<style scoped>\n",
       "    .dataframe tbody tr th:only-of-type {\n",
       "        vertical-align: middle;\n",
       "    }\n",
       "\n",
       "    .dataframe tbody tr th {\n",
       "        vertical-align: top;\n",
       "    }\n",
       "\n",
       "    .dataframe thead th {\n",
       "        text-align: right;\n",
       "    }\n",
       "</style>\n",
       "<table border=\"1\" class=\"dataframe\">\n",
       "  <thead>\n",
       "    <tr style=\"text-align: right;\">\n",
       "      <th></th>\n",
       "      <th>total_sales</th>\n",
       "      <th>critic_score</th>\n",
       "      <th>user_score</th>\n",
       "    </tr>\n",
       "  </thead>\n",
       "  <tbody>\n",
       "    <tr>\n",
       "      <th>total_sales</th>\n",
       "      <td>1.000000</td>\n",
       "      <td>0.334285</td>\n",
       "      <td>0.002394</td>\n",
       "    </tr>\n",
       "    <tr>\n",
       "      <th>critic_score</th>\n",
       "      <td>0.334285</td>\n",
       "      <td>1.000000</td>\n",
       "      <td>0.599920</td>\n",
       "    </tr>\n",
       "    <tr>\n",
       "      <th>user_score</th>\n",
       "      <td>0.002394</td>\n",
       "      <td>0.599920</td>\n",
       "      <td>1.000000</td>\n",
       "    </tr>\n",
       "  </tbody>\n",
       "</table>\n",
       "</div>"
      ],
      "text/plain": [
       "              total_sales  critic_score  user_score\n",
       "total_sales      1.000000      0.334285    0.002394\n",
       "critic_score     0.334285      1.000000    0.599920\n",
       "user_score       0.002394      0.599920    1.000000"
      ]
     },
     "metadata": {},
     "output_type": "display_data"
    },
    {
     "name": "stdout",
     "output_type": "stream",
     "text": [
      "PS4\n"
     ]
    },
    {
     "data": {
      "text/html": [
       "<div>\n",
       "<style scoped>\n",
       "    .dataframe tbody tr th:only-of-type {\n",
       "        vertical-align: middle;\n",
       "    }\n",
       "\n",
       "    .dataframe tbody tr th {\n",
       "        vertical-align: top;\n",
       "    }\n",
       "\n",
       "    .dataframe thead th {\n",
       "        text-align: right;\n",
       "    }\n",
       "</style>\n",
       "<table border=\"1\" class=\"dataframe\">\n",
       "  <thead>\n",
       "    <tr style=\"text-align: right;\">\n",
       "      <th></th>\n",
       "      <th>total_sales</th>\n",
       "      <th>critic_score</th>\n",
       "      <th>user_score</th>\n",
       "    </tr>\n",
       "  </thead>\n",
       "  <tbody>\n",
       "    <tr>\n",
       "      <th>total_sales</th>\n",
       "      <td>1.000000</td>\n",
       "      <td>0.406568</td>\n",
       "      <td>-0.031957</td>\n",
       "    </tr>\n",
       "    <tr>\n",
       "      <th>critic_score</th>\n",
       "      <td>0.406568</td>\n",
       "      <td>1.000000</td>\n",
       "      <td>0.557654</td>\n",
       "    </tr>\n",
       "    <tr>\n",
       "      <th>user_score</th>\n",
       "      <td>-0.031957</td>\n",
       "      <td>0.557654</td>\n",
       "      <td>1.000000</td>\n",
       "    </tr>\n",
       "  </tbody>\n",
       "</table>\n",
       "</div>"
      ],
      "text/plain": [
       "              total_sales  critic_score  user_score\n",
       "total_sales      1.000000      0.406568   -0.031957\n",
       "critic_score     0.406568      1.000000    0.557654\n",
       "user_score      -0.031957      0.557654    1.000000"
      ]
     },
     "metadata": {},
     "output_type": "display_data"
    },
    {
     "name": "stdout",
     "output_type": "stream",
     "text": [
      "XOne\n"
     ]
    },
    {
     "data": {
      "text/html": [
       "<div>\n",
       "<style scoped>\n",
       "    .dataframe tbody tr th:only-of-type {\n",
       "        vertical-align: middle;\n",
       "    }\n",
       "\n",
       "    .dataframe tbody tr th {\n",
       "        vertical-align: top;\n",
       "    }\n",
       "\n",
       "    .dataframe thead th {\n",
       "        text-align: right;\n",
       "    }\n",
       "</style>\n",
       "<table border=\"1\" class=\"dataframe\">\n",
       "  <thead>\n",
       "    <tr style=\"text-align: right;\">\n",
       "      <th></th>\n",
       "      <th>total_sales</th>\n",
       "      <th>critic_score</th>\n",
       "      <th>user_score</th>\n",
       "    </tr>\n",
       "  </thead>\n",
       "  <tbody>\n",
       "    <tr>\n",
       "      <th>total_sales</th>\n",
       "      <td>1.000000</td>\n",
       "      <td>0.416998</td>\n",
       "      <td>-0.068925</td>\n",
       "    </tr>\n",
       "    <tr>\n",
       "      <th>critic_score</th>\n",
       "      <td>0.416998</td>\n",
       "      <td>1.000000</td>\n",
       "      <td>0.472462</td>\n",
       "    </tr>\n",
       "    <tr>\n",
       "      <th>user_score</th>\n",
       "      <td>-0.068925</td>\n",
       "      <td>0.472462</td>\n",
       "      <td>1.000000</td>\n",
       "    </tr>\n",
       "  </tbody>\n",
       "</table>\n",
       "</div>"
      ],
      "text/plain": [
       "              total_sales  critic_score  user_score\n",
       "total_sales      1.000000      0.416998   -0.068925\n",
       "critic_score     0.416998      1.000000    0.472462\n",
       "user_score      -0.068925      0.472462    1.000000"
      ]
     },
     "metadata": {},
     "output_type": "display_data"
    },
    {
     "name": "stdout",
     "output_type": "stream",
     "text": [
      "3DS\n"
     ]
    },
    {
     "data": {
      "text/html": [
       "<div>\n",
       "<style scoped>\n",
       "    .dataframe tbody tr th:only-of-type {\n",
       "        vertical-align: middle;\n",
       "    }\n",
       "\n",
       "    .dataframe tbody tr th {\n",
       "        vertical-align: top;\n",
       "    }\n",
       "\n",
       "    .dataframe thead th {\n",
       "        text-align: right;\n",
       "    }\n",
       "</style>\n",
       "<table border=\"1\" class=\"dataframe\">\n",
       "  <thead>\n",
       "    <tr style=\"text-align: right;\">\n",
       "      <th></th>\n",
       "      <th>total_sales</th>\n",
       "      <th>critic_score</th>\n",
       "      <th>user_score</th>\n",
       "    </tr>\n",
       "  </thead>\n",
       "  <tbody>\n",
       "    <tr>\n",
       "      <th>total_sales</th>\n",
       "      <td>1.000000</td>\n",
       "      <td>0.357057</td>\n",
       "      <td>0.241504</td>\n",
       "    </tr>\n",
       "    <tr>\n",
       "      <th>critic_score</th>\n",
       "      <td>0.357057</td>\n",
       "      <td>1.000000</td>\n",
       "      <td>0.769536</td>\n",
       "    </tr>\n",
       "    <tr>\n",
       "      <th>user_score</th>\n",
       "      <td>0.241504</td>\n",
       "      <td>0.769536</td>\n",
       "      <td>1.000000</td>\n",
       "    </tr>\n",
       "  </tbody>\n",
       "</table>\n",
       "</div>"
      ],
      "text/plain": [
       "              total_sales  critic_score  user_score\n",
       "total_sales      1.000000      0.357057    0.241504\n",
       "critic_score     0.357057      1.000000    0.769536\n",
       "user_score       0.241504      0.769536    1.000000"
      ]
     },
     "metadata": {},
     "output_type": "display_data"
    },
    {
     "name": "stdout",
     "output_type": "stream",
     "text": [
      "X360\n"
     ]
    },
    {
     "data": {
      "text/html": [
       "<div>\n",
       "<style scoped>\n",
       "    .dataframe tbody tr th:only-of-type {\n",
       "        vertical-align: middle;\n",
       "    }\n",
       "\n",
       "    .dataframe tbody tr th {\n",
       "        vertical-align: top;\n",
       "    }\n",
       "\n",
       "    .dataframe thead th {\n",
       "        text-align: right;\n",
       "    }\n",
       "</style>\n",
       "<table border=\"1\" class=\"dataframe\">\n",
       "  <thead>\n",
       "    <tr style=\"text-align: right;\">\n",
       "      <th></th>\n",
       "      <th>total_sales</th>\n",
       "      <th>critic_score</th>\n",
       "      <th>user_score</th>\n",
       "    </tr>\n",
       "  </thead>\n",
       "  <tbody>\n",
       "    <tr>\n",
       "      <th>total_sales</th>\n",
       "      <td>1.000000</td>\n",
       "      <td>0.350345</td>\n",
       "      <td>-0.011742</td>\n",
       "    </tr>\n",
       "    <tr>\n",
       "      <th>critic_score</th>\n",
       "      <td>0.350345</td>\n",
       "      <td>1.000000</td>\n",
       "      <td>0.520946</td>\n",
       "    </tr>\n",
       "    <tr>\n",
       "      <th>user_score</th>\n",
       "      <td>-0.011742</td>\n",
       "      <td>0.520946</td>\n",
       "      <td>1.000000</td>\n",
       "    </tr>\n",
       "  </tbody>\n",
       "</table>\n",
       "</div>"
      ],
      "text/plain": [
       "              total_sales  critic_score  user_score\n",
       "total_sales      1.000000      0.350345   -0.011742\n",
       "critic_score     0.350345      1.000000    0.520946\n",
       "user_score      -0.011742      0.520946    1.000000"
      ]
     },
     "metadata": {},
     "output_type": "display_data"
    }
   ],
   "source": [
    "for platform in platforms:\n",
    "    print(platform)\n",
    "    display(data_actual_period[data_actual_period['platform']==platform][['total_sales', 'critic_score', 'user_score']].corr())"
   ]
  },
  {
   "cell_type": "markdown",
   "metadata": {},
   "source": [
    "Большинство оценок критиков влияют на продажи по таким платформам как PS3, PS4 и XOne, хоть и наблюдается достаточно слабая корреляция, исходя из шкалы Чеддока, по оценкам пользователей лидирует 3DS, но тоже корреляция очень слабая."
   ]
  },
  {
   "cell_type": "markdown",
   "metadata": {},
   "source": [
    "Далее, рассмотрим общее распределение игр по жанрам. Для наглядности построим диаграмму по количеству жанров в данном периоде."
   ]
  },
  {
   "cell_type": "code",
   "execution_count": 95,
   "metadata": {},
   "outputs": [
    {
     "data": {
      "image/png": "[encoded data removed]",
      "text/plain": [
       "<Figure size 1440x360 with 1 Axes>"
      ]
     },
     "metadata": {
      "needs_background": "light"
     },
     "output_type": "display_data"
    }
   ],
   "source": [
    "ax = plt.gca()\n",
    "\n",
    "pivot = data_actual_period.groupby('genre') \\\n",
    "        .agg({'name': 'count', 'total_sales': 'sum'}) \\\n",
    "        .sort_values(by='name', ascending=False)\n",
    "\n",
    "plot1 = pivot['name']\n",
    "plot1.plot(kind='bar', \n",
    "           figsize=(20,5), \n",
    "           ax=ax, \n",
    "           width=0.2, \n",
    "           position=1)\n",
    "\n",
    "plot2 = pivot['total_sales']\n",
    "plot2.plot(kind='bar', \n",
    "           figsize=(20,5), \n",
    "           ax=ax, \n",
    "           width=0.2, \n",
    "           color='#2df2ed', \n",
    "           position=0)\n",
    "\n",
    "ax.legend(['Количество выпущенных игр', 'Общая сумма продаж'])\n",
    "plt.show()"
   ]
  },
  {
   "cell_type": "markdown",
   "metadata": {},
   "source": [
    "По данному графику можно сказать, что по количеству и по сумме продаж лидирует жанр Action, самым прибыльным является жанр Shooter, неприбыльным - Adventure."
   ]
  },
  {
   "cell_type": "markdown",
   "metadata": {},
   "source": [
    "Далее, составим портрет пользователя каждого региона."
   ]
  },
  {
   "cell_type": "markdown",
   "metadata": {},
   "source": [
    "Самые популярные платформы (топ-5)."
   ]
  },
  {
   "cell_type": "code",
   "execution_count": 96,
   "metadata": {},
   "outputs": [
    {
     "data": {
      "image/png": "[encoded data removed]",
      "text/plain": [
       "<Figure size 720x360 with 1 Axes>"
      ]
     },
     "metadata": {
      "needs_background": "light"
     },
     "output_type": "display_data"
    }
   ],
   "source": [
    "data_actual_period.groupby('platform').agg({'na_sales':'sum'}) \\\n",
    "    .sort_values(by = 'na_sales', ascending = False) \\\n",
    "    .head(5).plot(kind='bar', figsize=(10,5))\n",
    "\n",
    "plt.title('Топ-5 платформ в Северной Америке')\n",
    "plt.xlabel('Платформа')\n",
    "plt.ylabel('Сумма продаж')\n",
    "plt.show()"
   ]
  },
  {
   "cell_type": "code",
   "execution_count": 97,
   "metadata": {},
   "outputs": [
    {
     "data": {
      "image/png": "[encoded data removed]",
      "text/plain": [
       "<Figure size 720x360 with 1 Axes>"
      ]
     },
     "metadata": {
      "needs_background": "light"
     },
     "output_type": "display_data"
    }
   ],
   "source": [
    "data_actual_period.groupby('platform').agg({'eu_sales':'sum'}) \\\n",
    "    .sort_values(by = 'eu_sales', ascending = False) \\\n",
    "    .head(5).plot(kind='bar', figsize=(10,5))\n",
    "\n",
    "plt.title('Топ-5 платформ в Европе')\n",
    "plt.xlabel('Платформа')\n",
    "plt.ylabel('Сумма продаж')\n",
    "plt.show()\n"
   ]
  },
  {
   "cell_type": "code",
   "execution_count": 98,
   "metadata": {},
   "outputs": [
    {
     "data": {
      "image/png": "[encoded data removed]",
      "text/plain": [
       "<Figure size 720x360 with 1 Axes>"
      ]
     },
     "metadata": {
      "needs_background": "light"
     },
     "output_type": "display_data"
    }
   ],
   "source": [
    "data_actual_period.groupby('platform').agg({'jp_sales':'sum'}) \\\n",
    "    .sort_values(by = 'jp_sales', ascending = False) \\\n",
    "    .head(5).plot(kind='bar', figsize=(10,5))\n",
    "\n",
    "plt.title('Топ-5 платформ в Японии')\n",
    "plt.xlabel('Платформа')\n",
    "plt.ylabel('Сумма продаж')\n",
    "plt.show()"
   ]
  },
  {
   "cell_type": "markdown",
   "metadata": {},
   "source": [
    "По данным графикам за данный период можно сказать, что в Северной Америке и Европе самой популярной платформой являются PS4, а в Японии 3DS."
   ]
  },
  {
   "cell_type": "markdown",
   "metadata": {},
   "source": [
    "Далее рассмотрим популярные жанры (топ-5)."
   ]
  },
  {
   "cell_type": "code",
   "execution_count": 99,
   "metadata": {},
   "outputs": [
    {
     "data": {
      "image/png": "[encoded data removed]",
      "text/plain": [
       "<Figure size 720x360 with 1 Axes>"
      ]
     },
     "metadata": {
      "needs_background": "light"
     },
     "output_type": "display_data"
    }
   ],
   "source": [
    "data_actual_period.groupby('genre').agg({'na_sales':'sum'}) \\\n",
    "    .sort_values(by = 'na_sales', ascending = False) \\\n",
    "    .head(5).plot(kind='bar', figsize=(10,5))\n",
    "\n",
    "plt.title('Топ-5 платформ в Северной Америке')\n",
    "plt.xlabel('Жанр')\n",
    "plt.ylabel('Сумма продаж')\n",
    "plt.show()"
   ]
  },
  {
   "cell_type": "code",
   "execution_count": 100,
   "metadata": {},
   "outputs": [
    {
     "data": {
      "image/png": "[encoded data removed]",
      "text/plain": [
       "<Figure size 720x360 with 1 Axes>"
      ]
     },
     "metadata": {
      "needs_background": "light"
     },
     "output_type": "display_data"
    }
   ],
   "source": [
    "data_actual_period.groupby('genre').agg({'eu_sales':'sum'}) \\\n",
    "    .sort_values(by = 'eu_sales', ascending = False) \\\n",
    "    .head(5).plot(kind='bar', figsize=(10,5))\n",
    "\n",
    "plt.title('Топ-5 платформ в Европе')\n",
    "plt.xlabel('Жанр')\n",
    "plt.ylabel('Сумма продаж')\n",
    "plt.show()"
   ]
  },
  {
   "cell_type": "code",
   "execution_count": 101,
   "metadata": {},
   "outputs": [
    {
     "data": {
      "image/png": "[encoded data removed]",
      "text/plain": [
       "<Figure size 720x360 with 1 Axes>"
      ]
     },
     "metadata": {
      "needs_background": "light"
     },
     "output_type": "display_data"
    }
   ],
   "source": [
    "data_actual_period.groupby('genre').agg({'jp_sales':'sum'}) \\\n",
    "    .sort_values(by = 'jp_sales', ascending = False) \\\n",
    "    .head(5).plot(kind='bar', figsize=(10,5))\n",
    "\n",
    "plt.title('Топ-5 платформ в Японии')\n",
    "plt.xlabel('Жанр')\n",
    "plt.ylabel('Сумма продаж')\n",
    "plt.show()\n",
    "    "
   ]
  },
  {
   "cell_type": "markdown",
   "metadata": {},
   "source": [
    "В Европе и Америке самым популярным жанром является Action, а в Японии RPG."
   ]
  },
  {
   "cell_type": "markdown",
   "metadata": {},
   "source": [
    "Далее, рассмотрим как влияет рейтинг ESRB на продажи в отдельном регионе. Для начала запишем расшифровку рейтингов в словарь. "
   ]
  },
  {
   "cell_type": "code",
   "execution_count": 102,
   "metadata": {},
   "outputs": [
    {
     "data": {
      "text/plain": [
       "array(['E', nan, 'M', 'T', 'E10+', 'K-A', 'AO', 'EC', 'RP'], dtype=object)"
      ]
     },
     "execution_count": 102,
     "metadata": {},
     "output_type": "execute_result"
    }
   ],
   "source": [
    "data['rating'].unique()"
   ]
  },
  {
   "cell_type": "code",
   "execution_count": 103,
   "metadata": {},
   "outputs": [],
   "source": [
    "ESRB = {'E': 'для всех возрастных категорий',\n",
    "        'M': 'для лиц старше 17 лет',\n",
    "        'T': 'для лиц старше 13 лет',\n",
    "        'E10+': 'для лиц старше 10 лет',\n",
    "        'K-A': 'для детей и взрослых',\n",
    "        'AO' : 'для взрослых старше 18 лет',\n",
    "        'EC' : 'для детей младшего возраста',\n",
    "        'RP' : 'категория ещё не присвоена'}"
   ]
  },
  {
   "cell_type": "code",
   "execution_count": 104,
   "metadata": {},
   "outputs": [
    {
     "name": "stderr",
     "output_type": "stream",
     "text": [
      "/tmp/ipykernel_31/2008834028.py:1: SettingWithCopyWarning: \n",
      "A value is trying to be set on a copy of a slice from a DataFrame.\n",
      "Try using .loc[row_indexer,col_indexer] = value instead\n",
      "\n",
      "See the caveats in the documentation: https://pandas.pydata.org/pandas-docs/stable/user_guide/indexing.html#returning-a-view-versus-a-copy\n",
      "  data_actual_period['ESRB'] = data[data['rating'].notnull()]['rating'].map(ESRB)\n"
     ]
    }
   ],
   "source": [
    "data_actual_period['ESRB'] = data[data['rating'].notnull()]['rating'].map(ESRB)"
   ]
  },
  {
   "cell_type": "code",
   "execution_count": 105,
   "metadata": {},
   "outputs": [
    {
     "name": "stderr",
     "output_type": "stream",
     "text": [
      "/tmp/ipykernel_31/3373368973.py:1: SettingWithCopyWarning: \n",
      "A value is trying to be set on a copy of a slice from a DataFrame.\n",
      "Try using .loc[row_indexer,col_indexer] = value instead\n",
      "\n",
      "See the caveats in the documentation: https://pandas.pydata.org/pandas-docs/stable/user_guide/indexing.html#returning-a-view-versus-a-copy\n",
      "  data_actual_period['ESRB'] = data_actual_period['ESRB'].fillna('unknown')\n"
     ]
    }
   ],
   "source": [
    "data_actual_period['ESRB'] = data_actual_period['ESRB'].fillna('unknown')"
   ]
  },
  {
   "cell_type": "code",
   "execution_count": 106,
   "metadata": {},
   "outputs": [
    {
     "data": {
      "image/png": "[encoded data removed]",
      "text/plain": [
       "<Figure size 720x360 with 1 Axes>"
      ]
     },
     "metadata": {
      "needs_background": "light"
     },
     "output_type": "display_data"
    }
   ],
   "source": [
    "data_actual_period.groupby(by='ESRB').agg({'na_sales':'sum'}) \\\n",
    "    .sort_values(by = 'na_sales', ascending = False) \\\n",
    "    .head(5).plot(kind='bar', figsize=(10,5))\n",
    "\n",
    "plt.title('Топ-5 рейтинга ESRB в Северной Америке')\n",
    "plt.xlabel('ESRB')\n",
    "plt.ylabel('Сумма продаж')\n",
    "plt.show()"
   ]
  },
  {
   "cell_type": "code",
   "execution_count": 107,
   "metadata": {},
   "outputs": [
    {
     "data": {
      "image/png": "[encoded data removed]",
      "text/plain": [
       "<Figure size 720x360 with 1 Axes>"
      ]
     },
     "metadata": {
      "needs_background": "light"
     },
     "output_type": "display_data"
    }
   ],
   "source": [
    "data_actual_period.groupby(by='ESRB').agg({'eu_sales':'sum'}) \\\n",
    "    .sort_values(by = 'eu_sales', ascending = False) \\\n",
    "    .head(5).plot(kind='bar', figsize=(10,5))\n",
    "\n",
    "plt.title('Топ-5 рейтинга ESRB в Европе')\n",
    "plt.xlabel('ESRB')\n",
    "plt.ylabel('Сумма продаж')\n",
    "plt.show()"
   ]
  },
  {
   "cell_type": "code",
   "execution_count": 108,
   "metadata": {},
   "outputs": [
    {
     "data": {
      "image/png": "[encoded data removed]",
      "text/plain": [
       "<Figure size 720x360 with 1 Axes>"
      ]
     },
     "metadata": {
      "needs_background": "light"
     },
     "output_type": "display_data"
    }
   ],
   "source": [
    "data_actual_period.groupby(by='ESRB').agg({'jp_sales':'sum'}) \\\n",
    "    .sort_values(by = 'jp_sales', ascending = False) \\\n",
    "    .head(5).plot(kind='bar', figsize=(10,5))\n",
    "\n",
    "plt.title('Топ-5 рейтинга ESRB в Японии')\n",
    "plt.xlabel('ESRB')\n",
    "plt.ylabel('Сумма продаж')\n",
    "plt.show()"
   ]
  },
  {
   "cell_type": "markdown",
   "metadata": {},
   "source": [
    "По данным графикам видно, что в Европе и Северной Америке большую популярность составляют игры в категорий \"для лиц старше 17 лет\", а в Японии неизвестно. Это связано из-за того что рейтинг ESRB - это американская модель, в Японии - CERO, и она отличается от американской."
   ]
  },
  {
   "cell_type": "markdown",
   "metadata": {},
   "source": [
    "Далее, проверим несколько гипотез. "
   ]
  },
  {
   "cell_type": "markdown",
   "metadata": {},
   "source": [
    "Гипотеза 1. Средние пользовательские рейтинги платформ Xbox One и PC одинаковые"
   ]
  },
  {
   "cell_type": "code",
   "execution_count": 109,
   "metadata": {},
   "outputs": [
    {
     "name": "stdout",
     "output_type": "stream",
     "text": [
      "p-значение: 0.14012658403611647\n",
      "Не получилось отвергнуть нулевую гипотезу\n"
     ]
    }
   ],
   "source": [
    "alpha = .05\n",
    "\n",
    "results = stats.ttest_ind(\n",
    "    data_actual_period[data_actual_period['platform']==\"XOne\"]['user_score'].dropna(), \n",
    "    data_actual_period[data_actual_period['platform']==\"PC\"]['user_score'].dropna(),\n",
    "    equal_var=True) \n",
    "\n",
    "print('p-значение:', results.pvalue)\n",
    "\n",
    "if (results.pvalue < alpha):\n",
    "    print('Отвергаем нулевую гипотезу')\n",
    "else:\n",
    "    print('Не получилось отвергнуть нулевую гипотезу')"
   ]
  },
  {
   "cell_type": "markdown",
   "metadata": {},
   "source": [
    "Не получилось отвергнуть нулевую гипотезу, т.е. средние пользовательские рейтинги платформ Xbox One и PC одинаковые."
   ]
  },
  {
   "cell_type": "markdown",
   "metadata": {},
   "source": [
    "Гипотеза 2. Средние пользовательские рейтинги жанров Action (англ. «действие», экшен-игры) и Sports (англ. «спортивные соревнования») разные."
   ]
  },
  {
   "cell_type": "code",
   "execution_count": 110,
   "metadata": {},
   "outputs": [
    {
     "name": "stdout",
     "output_type": "stream",
     "text": [
      "p-значение: 1.4460039700704315e-20\n",
      "Отвергаем нулевую гипотезу\n"
     ]
    }
   ],
   "source": [
    "alpha = .05\n",
    "\n",
    "results = stats.ttest_ind(\n",
    "    data_actual_period[data_actual_period['genre']==\"Action\"]['user_score'].dropna(), \n",
    "    data_actual_period[data_actual_period['genre']==\"Sports\"]['user_score'].dropna(),\n",
    "    equal_var=False)\n",
    "\n",
    "print('p-значение:', results.pvalue)\n",
    "\n",
    "if (results.pvalue < alpha):\n",
    "    print('Отвергаем нулевую гипотезу')\n",
    "else:\n",
    "    print('Не получилось отвергнуть нулевую гипотезу')"
   ]
  },
  {
   "cell_type": "markdown",
   "metadata": {},
   "source": [
    "Отвергаем нулевую гипотезу, т.е. средние пользовательские рейтинги жанров Action (англ. «действие», экшен-игры) и Sports (англ. «спортивные соревнования») разные."
   ]
  },
  {
   "cell_type": "markdown",
   "metadata": {},
   "source": [
    "На данном этапе мы провели исследовательский анализ данных, выяснили как развивалась игровая индустрия, какие платформы и жынры были популярны в каждом регионе, а так же сделали проверку статистических гипотез. "
   ]
  },
  {
   "cell_type": "markdown",
   "metadata": {},
   "source": [
    "## Общий вывод"
   ]
  },
  {
   "cell_type": "markdown",
   "metadata": {},
   "source": [
    "Было проведено исследование данных о продаже игр как во всех регионах, так и в каждом регионе по отдельности (Северная Америка, Европа и Япония). Результаты исследования будут учтены при построении автоматизированной системы, позволяющую сделать ставку на потенциально популярный продукт и спланировать рекламные кампании.\n",
    "\n",
    "В данном датасете были поставлены следующие цели:\n",
    "\n",
    "1) Использование Pandas для обработки данных;\n",
    "\n",
    "2) Использование MatplotLib для построения графиков;\n",
    "\n",
    "3) Проведен исследовательский анализ данных\n",
    "\n",
    "4) Проведена проверка статистических гипотез. \n",
    "\n",
    "Данных в датасете до очистки данных составило 16 713 строк, после обработки - 16 444 строк, в 2 колонках было немного пропусков, которые мы удалили, а в других трех очень много, но не стали их заполнять, потому что они возникли из-за того, что оценки критиков и пользователей еще не были поставлены, а пропуски в рейтингах означали, что в Японии другая система рейтингов и она отличается от ESRB.\n",
    "\n",
    "Актуальный период для прогнозирования продаж в 2017 году был выбран с 2013 по 2016 год. На сегодняшний день данные являются не актуальными, т.к. игровая индустрия не стоит на месте и постоянно развивается, поэтому в 2023 году уже можно брать последние 1-2 года для анализа данных, но данный проект является \"гибким\" и его можно корректировать. \n",
    "\n",
    "Проанализировав данные за 2010-2016 год, мы выявили прибыльные платформы за последние 3 года:  PS4, XOne и 3DS. В данных регионах эти данные различаются, например, в Северной Америке и Европе самой популярной платформой являются PS4, а в Японии -  3DS.  \n",
    "\n",
    "Немало важны и жанры игр. Проанализировав их, мы пришли к выводу, что в Северной Америке и Европе одним из самых популярных жанров является Action, а в Японии - RPG. Прибыльными играми оказались с такими жанрами как Shooter, неприбыльными - Adventure.\n",
    "\n",
    "По рейтингу ESRB в Северной Америке и Европе является рейтинг M, E, для Японии - E.\n",
    "\n",
    "Так же, мы выяснили, что на продажу игр оценка критиков влияет больше, чем оценка пользователей, это и нужно учитывать при планировании рекламной кампании.\n",
    "\n",
    "Так же, в ходе исследования были поставлены следующие гипотезы:\n",
    "\n",
    "1. Средние пользовательские рейтинги платформ Xbox One и PC одинаковые\n",
    "\n",
    "2. Средние пользовательские рейтинги жанров Action (англ. «действие», экшен-игры) и Sports (англ. «спортивные соревнования») разные.\n",
    "\n",
    "В первом случае не получилось не получилось отвергнуть нулевую гипотезу, что можно сделать вывод о том, что средние пользовательские рейтинги платформ Xbox One и PC одинаковые.\n",
    "\n",
    "Во втором случае мы отвергаем нулевую гипотезу и делаем вывод, что средние пользовательские рейтинги жанров Action и Sports разные.\n",
    "\n",
    "Подводя итог, были вынесены следующие рекомендации для доработки данных:\n",
    "\n",
    "1. Необходимо ESRB в зависимости от региона, что позволит уменьшить пропуски и дать более информативные данные."
   ]
  }
 ],
 "metadata": {
  "ExecuteTimeLog": [
   {
    "duration": 408,
    "start_time": "2023-02-16T17:33:49.333Z"
   },
   {
    "duration": 95,
    "start_time": "2023-02-16T17:36:24.537Z"
   },
   {
    "duration": 73,
    "start_time": "2023-02-16T17:36:31.821Z"
   },
   {
    "duration": 57,
    "start_time": "2023-02-16T17:36:40.545Z"
   },
   {
    "duration": 58,
    "start_time": "2023-02-16T17:36:45.166Z"
   },
   {
    "duration": 16,
    "start_time": "2023-02-16T17:52:00.287Z"
   },
   {
    "duration": 8,
    "start_time": "2023-02-16T17:52:47.583Z"
   },
   {
    "duration": 82,
    "start_time": "2023-02-16T18:01:00.250Z"
   },
   {
    "duration": 12,
    "start_time": "2023-02-16T18:01:31.924Z"
   },
   {
    "duration": 9,
    "start_time": "2023-02-16T18:01:42.146Z"
   },
   {
    "duration": 1263,
    "start_time": "2023-02-16T19:05:07.880Z"
   },
   {
    "duration": 43,
    "start_time": "2023-02-16T19:05:36.250Z"
   },
   {
    "duration": 1201,
    "start_time": "2023-02-16T19:13:58.928Z"
   },
   {
    "duration": 1125,
    "start_time": "2023-02-16T19:14:12.401Z"
   },
   {
    "duration": 2,
    "start_time": "2023-02-16T19:14:32.625Z"
   },
   {
    "duration": 1066,
    "start_time": "2023-02-16T19:14:35.878Z"
   },
   {
    "duration": 8,
    "start_time": "2023-02-16T19:14:49.022Z"
   },
   {
    "duration": 1100,
    "start_time": "2023-02-16T19:14:52.966Z"
   },
   {
    "duration": 1094,
    "start_time": "2023-02-16T19:15:02.745Z"
   },
   {
    "duration": 9,
    "start_time": "2023-02-16T19:17:06.687Z"
   },
   {
    "duration": 25,
    "start_time": "2023-02-16T19:18:00.535Z"
   },
   {
    "duration": 4,
    "start_time": "2023-02-16T19:19:02.633Z"
   },
   {
    "duration": 9,
    "start_time": "2023-02-16T19:19:11.849Z"
   },
   {
    "duration": 319,
    "start_time": "2023-02-16T19:19:22.427Z"
   },
   {
    "duration": 24,
    "start_time": "2023-02-16T19:19:53.131Z"
   },
   {
    "duration": 24,
    "start_time": "2023-02-16T19:20:35.464Z"
   },
   {
    "duration": 2,
    "start_time": "2023-02-16T19:25:40.986Z"
   },
   {
    "duration": 36,
    "start_time": "2023-02-16T19:25:44.083Z"
   },
   {
    "duration": 13,
    "start_time": "2023-02-16T19:26:05.258Z"
   },
   {
    "duration": 10,
    "start_time": "2023-02-16T19:26:11.859Z"
   },
   {
    "duration": 1187,
    "start_time": "2023-02-16T19:27:19.354Z"
   },
   {
    "duration": 7,
    "start_time": "2023-02-16T19:27:26.131Z"
   },
   {
    "duration": 12,
    "start_time": "2023-02-16T19:28:45.306Z"
   },
   {
    "duration": 83,
    "start_time": "2023-02-16T19:28:47.395Z"
   },
   {
    "duration": 8,
    "start_time": "2023-02-16T19:28:47.642Z"
   },
   {
    "duration": 6,
    "start_time": "2023-02-16T19:30:13.144Z"
   },
   {
    "duration": 14,
    "start_time": "2023-02-16T19:30:28.893Z"
   },
   {
    "duration": 8,
    "start_time": "2023-02-16T19:30:36.653Z"
   },
   {
    "duration": 11,
    "start_time": "2023-02-16T19:32:51.245Z"
   },
   {
    "duration": 17,
    "start_time": "2023-02-16T19:33:02.598Z"
   },
   {
    "duration": 18,
    "start_time": "2023-02-16T19:33:31.118Z"
   },
   {
    "duration": 14,
    "start_time": "2023-02-16T19:33:44.104Z"
   },
   {
    "duration": 7,
    "start_time": "2023-02-16T19:34:09.432Z"
   },
   {
    "duration": 5,
    "start_time": "2023-02-16T19:34:20.589Z"
   },
   {
    "duration": 10,
    "start_time": "2023-02-16T19:37:19.170Z"
   },
   {
    "duration": 20,
    "start_time": "2023-02-16T19:37:28.455Z"
   },
   {
    "duration": 7,
    "start_time": "2023-02-16T19:40:14.771Z"
   },
   {
    "duration": 125,
    "start_time": "2023-02-16T19:40:29.352Z"
   },
   {
    "duration": 6,
    "start_time": "2023-02-16T19:40:45.968Z"
   },
   {
    "duration": 546,
    "start_time": "2023-02-16T19:41:05.831Z"
   },
   {
    "duration": 13,
    "start_time": "2023-02-16T19:41:34.856Z"
   },
   {
    "duration": 19,
    "start_time": "2023-02-16T19:43:20.801Z"
   },
   {
    "duration": 75,
    "start_time": "2023-02-16T19:43:38.577Z"
   },
   {
    "duration": 14,
    "start_time": "2023-02-16T19:43:43.671Z"
   },
   {
    "duration": 6,
    "start_time": "2023-02-16T19:43:57.554Z"
   },
   {
    "duration": 68,
    "start_time": "2023-02-16T19:49:53.716Z"
   },
   {
    "duration": 5,
    "start_time": "2023-02-16T19:51:23.053Z"
   },
   {
    "duration": 22,
    "start_time": "2023-02-16T19:51:37.321Z"
   },
   {
    "duration": 3,
    "start_time": "2023-02-16T19:57:28.040Z"
   },
   {
    "duration": 57,
    "start_time": "2023-02-16T19:57:28.208Z"
   },
   {
    "duration": 14,
    "start_time": "2023-02-16T19:57:28.551Z"
   },
   {
    "duration": 9,
    "start_time": "2023-02-16T19:57:29.384Z"
   },
   {
    "duration": 12,
    "start_time": "2023-02-16T19:57:30.672Z"
   },
   {
    "duration": 6,
    "start_time": "2023-02-16T19:57:31.288Z"
   },
   {
    "duration": 6,
    "start_time": "2023-02-16T19:57:32.480Z"
   },
   {
    "duration": 14,
    "start_time": "2023-02-16T19:57:33.176Z"
   },
   {
    "duration": 7,
    "start_time": "2023-02-16T19:57:33.655Z"
   },
   {
    "duration": 9,
    "start_time": "2023-02-16T19:57:35.536Z"
   },
   {
    "duration": 7,
    "start_time": "2023-02-16T19:57:41.370Z"
   },
   {
    "duration": 16,
    "start_time": "2023-02-16T19:57:49.771Z"
   },
   {
    "duration": 77,
    "start_time": "2023-02-16T20:01:38.153Z"
   },
   {
    "duration": 12,
    "start_time": "2023-02-16T20:03:41.966Z"
   },
   {
    "duration": 5,
    "start_time": "2023-02-16T20:03:48.395Z"
   },
   {
    "duration": 21,
    "start_time": "2023-02-16T20:04:04.902Z"
   },
   {
    "duration": 166,
    "start_time": "2023-02-16T20:04:19.162Z"
   },
   {
    "duration": 297,
    "start_time": "2023-02-16T20:04:36.154Z"
   },
   {
    "duration": 332,
    "start_time": "2023-02-16T20:05:00.946Z"
   },
   {
    "duration": 435,
    "start_time": "2023-02-16T20:05:11.172Z"
   },
   {
    "duration": 329,
    "start_time": "2023-02-16T20:05:22.075Z"
   },
   {
    "duration": 327,
    "start_time": "2023-02-16T20:05:30.396Z"
   },
   {
    "duration": 343,
    "start_time": "2023-02-16T20:05:56.060Z"
   },
   {
    "duration": 383,
    "start_time": "2023-02-16T20:06:04.076Z"
   },
   {
    "duration": 328,
    "start_time": "2023-02-16T20:06:09.347Z"
   },
   {
    "duration": 4,
    "start_time": "2023-02-16T20:07:17.673Z"
   },
   {
    "duration": 415,
    "start_time": "2023-02-16T20:07:20.948Z"
   },
   {
    "duration": 332,
    "start_time": "2023-02-16T20:08:15.494Z"
   },
   {
    "duration": 339,
    "start_time": "2023-02-16T20:08:23.748Z"
   },
   {
    "duration": 336,
    "start_time": "2023-02-16T20:08:54.821Z"
   },
   {
    "duration": 21,
    "start_time": "2023-02-16T20:11:58.941Z"
   },
   {
    "duration": 15,
    "start_time": "2023-02-16T20:12:18.384Z"
   },
   {
    "duration": 22,
    "start_time": "2023-02-16T20:12:57.197Z"
   },
   {
    "duration": 5,
    "start_time": "2023-02-16T20:13:21.295Z"
   },
   {
    "duration": 8,
    "start_time": "2023-02-16T20:13:34.255Z"
   },
   {
    "duration": 6,
    "start_time": "2023-02-16T20:13:50.090Z"
   },
   {
    "duration": 25,
    "start_time": "2023-02-16T20:22:14.969Z"
   },
   {
    "duration": 6,
    "start_time": "2023-02-16T20:22:30.226Z"
   },
   {
    "duration": 9,
    "start_time": "2023-02-16T20:22:36.898Z"
   },
   {
    "duration": 47,
    "start_time": "2023-02-16T20:22:47.195Z"
   },
   {
    "duration": 18,
    "start_time": "2023-02-16T20:32:29.809Z"
   },
   {
    "duration": 37,
    "start_time": "2023-02-16T20:36:27.834Z"
   },
   {
    "duration": 90,
    "start_time": "2023-02-16T20:36:53.577Z"
   },
   {
    "duration": 92,
    "start_time": "2023-02-16T20:37:00.271Z"
   },
   {
    "duration": 1394,
    "start_time": "2023-02-16T20:37:05.334Z"
   },
   {
    "duration": 68,
    "start_time": "2023-02-16T20:37:14.928Z"
   },
   {
    "duration": 11,
    "start_time": "2023-02-16T20:37:30.433Z"
   },
   {
    "duration": 5,
    "start_time": "2023-02-16T20:39:23.674Z"
   },
   {
    "duration": 5,
    "start_time": "2023-02-16T20:39:36.829Z"
   },
   {
    "duration": 1859,
    "start_time": "2023-02-16T20:42:15.430Z"
   },
   {
    "duration": 1802,
    "start_time": "2023-02-16T20:42:49.220Z"
   },
   {
    "duration": 1082,
    "start_time": "2023-02-16T20:43:40.758Z"
   },
   {
    "duration": 963,
    "start_time": "2023-02-16T20:44:12.775Z"
   },
   {
    "duration": 1134,
    "start_time": "2023-02-16T20:45:36.656Z"
   },
   {
    "duration": 1093,
    "start_time": "2023-02-16T20:45:59.734Z"
   },
   {
    "duration": 9,
    "start_time": "2023-02-16T21:02:00.892Z"
   },
   {
    "duration": 14,
    "start_time": "2023-02-16T21:02:37.683Z"
   },
   {
    "duration": 15,
    "start_time": "2023-02-16T21:02:59.980Z"
   },
   {
    "duration": 23,
    "start_time": "2023-02-16T21:03:07.468Z"
   },
   {
    "duration": 21,
    "start_time": "2023-02-16T21:03:19.720Z"
   },
   {
    "duration": 14,
    "start_time": "2023-02-16T21:03:45.246Z"
   },
   {
    "duration": 3,
    "start_time": "2023-02-16T21:04:39.697Z"
   },
   {
    "duration": 54,
    "start_time": "2023-02-16T21:04:39.843Z"
   },
   {
    "duration": 16,
    "start_time": "2023-02-16T21:04:40.154Z"
   },
   {
    "duration": 11,
    "start_time": "2023-02-16T21:04:40.459Z"
   },
   {
    "duration": 17,
    "start_time": "2023-02-16T21:04:40.930Z"
   },
   {
    "duration": 7,
    "start_time": "2023-02-16T21:04:41.090Z"
   },
   {
    "duration": 9,
    "start_time": "2023-02-16T21:04:41.434Z"
   },
   {
    "duration": 22,
    "start_time": "2023-02-16T21:04:41.760Z"
   },
   {
    "duration": 8,
    "start_time": "2023-02-16T21:04:41.915Z"
   },
   {
    "duration": 8,
    "start_time": "2023-02-16T21:04:42.592Z"
   },
   {
    "duration": 15,
    "start_time": "2023-02-16T21:04:42.744Z"
   },
   {
    "duration": 358,
    "start_time": "2023-02-16T21:04:43.075Z"
   },
   {
    "duration": 16,
    "start_time": "2023-02-16T21:04:43.664Z"
   },
   {
    "duration": 1111,
    "start_time": "2023-02-16T21:04:45.548Z"
   },
   {
    "duration": 8,
    "start_time": "2023-02-16T21:04:49.195Z"
   },
   {
    "duration": 14,
    "start_time": "2023-02-16T21:05:08.252Z"
   },
   {
    "duration": 18,
    "start_time": "2023-02-16T21:07:18.421Z"
   },
   {
    "duration": 10,
    "start_time": "2023-02-16T21:09:32.023Z"
   },
   {
    "duration": 1260,
    "start_time": "2023-02-16T21:09:32.629Z"
   },
   {
    "duration": 1084,
    "start_time": "2023-02-16T21:09:42.446Z"
   },
   {
    "duration": 9,
    "start_time": "2023-02-16T21:10:16.020Z"
   },
   {
    "duration": 12,
    "start_time": "2023-02-16T21:10:16.221Z"
   },
   {
    "duration": 937,
    "start_time": "2023-02-16T21:10:16.549Z"
   },
   {
    "duration": 9,
    "start_time": "2023-02-16T21:11:01.334Z"
   },
   {
    "duration": 15,
    "start_time": "2023-02-16T21:11:01.558Z"
   },
   {
    "duration": 2060,
    "start_time": "2023-02-16T21:11:02.046Z"
   },
   {
    "duration": 17,
    "start_time": "2023-02-16T21:12:46.796Z"
   },
   {
    "duration": 1285,
    "start_time": "2023-02-16T21:12:46.977Z"
   },
   {
    "duration": 9,
    "start_time": "2023-02-16T21:13:24.381Z"
   },
   {
    "duration": 14,
    "start_time": "2023-02-16T21:13:24.562Z"
   },
   {
    "duration": 1402,
    "start_time": "2023-02-16T21:13:24.822Z"
   },
   {
    "duration": 8,
    "start_time": "2023-02-16T21:15:24.170Z"
   },
   {
    "duration": 17,
    "start_time": "2023-02-16T21:15:24.319Z"
   },
   {
    "duration": 12,
    "start_time": "2023-02-16T21:15:26.926Z"
   },
   {
    "duration": 22,
    "start_time": "2023-02-16T21:15:35.367Z"
   },
   {
    "duration": 3,
    "start_time": "2023-02-16T21:15:56.355Z"
   },
   {
    "duration": 18,
    "start_time": "2023-02-16T21:15:56.715Z"
   },
   {
    "duration": 20,
    "start_time": "2023-02-16T21:16:00.900Z"
   },
   {
    "duration": 20,
    "start_time": "2023-02-16T21:16:01.178Z"
   },
   {
    "duration": 158,
    "start_time": "2023-02-16T21:16:38.290Z"
   },
   {
    "duration": 424,
    "start_time": "2023-02-16T21:16:52.400Z"
   },
   {
    "duration": 133,
    "start_time": "2023-02-16T21:21:26.916Z"
   },
   {
    "duration": 383,
    "start_time": "2023-02-16T21:22:05.568Z"
   },
   {
    "duration": 434,
    "start_time": "2023-02-16T21:22:31.101Z"
   },
   {
    "duration": 411,
    "start_time": "2023-02-16T21:24:13.656Z"
   },
   {
    "duration": 505,
    "start_time": "2023-02-16T21:24:21.290Z"
   },
   {
    "duration": 270,
    "start_time": "2023-02-16T21:30:53.483Z"
   },
   {
    "duration": 255,
    "start_time": "2023-02-16T21:31:02.498Z"
   },
   {
    "duration": 295,
    "start_time": "2023-02-16T21:31:37.331Z"
   },
   {
    "duration": 330,
    "start_time": "2023-02-16T21:31:45.818Z"
   },
   {
    "duration": 132,
    "start_time": "2023-02-16T21:32:17.242Z"
   },
   {
    "duration": 126,
    "start_time": "2023-02-16T21:32:38.137Z"
   },
   {
    "duration": 267,
    "start_time": "2023-02-16T21:32:50.966Z"
   },
   {
    "duration": 459,
    "start_time": "2023-02-16T21:33:21.320Z"
   },
   {
    "duration": 297,
    "start_time": "2023-02-16T21:33:29.830Z"
   },
   {
    "duration": 260,
    "start_time": "2023-02-16T21:33:46.462Z"
   },
   {
    "duration": 266,
    "start_time": "2023-02-16T21:34:29.965Z"
   },
   {
    "duration": 282,
    "start_time": "2023-02-16T21:35:08.930Z"
   },
   {
    "duration": 331,
    "start_time": "2023-02-16T21:36:15.251Z"
   },
   {
    "duration": 273,
    "start_time": "2023-02-16T21:36:23.423Z"
   },
   {
    "duration": 514,
    "start_time": "2023-02-16T21:36:28.967Z"
   },
   {
    "duration": 11,
    "start_time": "2023-02-16T21:56:01.527Z"
   },
   {
    "duration": 458,
    "start_time": "2023-02-16T21:56:24.590Z"
   },
   {
    "duration": 1553,
    "start_time": "2023-02-16T21:56:28.794Z"
   },
   {
    "duration": 1779,
    "start_time": "2023-02-16T21:58:03.901Z"
   },
   {
    "duration": 1610,
    "start_time": "2023-02-16T21:58:20.262Z"
   },
   {
    "duration": 288,
    "start_time": "2023-02-16T22:02:03.113Z"
   },
   {
    "duration": 502,
    "start_time": "2023-02-16T22:02:14.056Z"
   },
   {
    "duration": 293,
    "start_time": "2023-02-16T22:02:36.199Z"
   },
   {
    "duration": 296,
    "start_time": "2023-02-16T22:03:35.940Z"
   },
   {
    "duration": 61,
    "start_time": "2023-02-16T22:05:30.865Z"
   },
   {
    "duration": 8,
    "start_time": "2023-02-16T22:10:23.861Z"
   },
   {
    "duration": 10,
    "start_time": "2023-02-16T22:10:38.144Z"
   },
   {
    "duration": 36,
    "start_time": "2023-02-16T22:11:03.582Z"
   },
   {
    "duration": 15,
    "start_time": "2023-02-16T22:11:40.033Z"
   },
   {
    "duration": 32,
    "start_time": "2023-02-16T22:11:56.993Z"
   },
   {
    "duration": 9,
    "start_time": "2023-02-16T22:11:57.569Z"
   },
   {
    "duration": 5,
    "start_time": "2023-02-16T22:12:20.491Z"
   },
   {
    "duration": 297,
    "start_time": "2023-02-16T22:12:22.156Z"
   },
   {
    "duration": 1128,
    "start_time": "2023-02-16T22:13:53.029Z"
   },
   {
    "duration": 81,
    "start_time": "2023-02-16T22:13:54.159Z"
   },
   {
    "duration": 16,
    "start_time": "2023-02-16T22:13:54.242Z"
   },
   {
    "duration": 9,
    "start_time": "2023-02-16T22:13:54.260Z"
   },
   {
    "duration": 36,
    "start_time": "2023-02-16T22:13:54.271Z"
   },
   {
    "duration": 5,
    "start_time": "2023-02-16T22:13:54.315Z"
   },
   {
    "duration": 6,
    "start_time": "2023-02-16T22:13:54.324Z"
   },
   {
    "duration": 14,
    "start_time": "2023-02-16T22:13:54.332Z"
   },
   {
    "duration": 6,
    "start_time": "2023-02-16T22:13:54.347Z"
   },
   {
    "duration": 6,
    "start_time": "2023-02-16T22:13:54.413Z"
   },
   {
    "duration": 14,
    "start_time": "2023-02-16T22:13:54.579Z"
   },
   {
    "duration": 336,
    "start_time": "2023-02-16T22:13:54.916Z"
   },
   {
    "duration": 26,
    "start_time": "2023-02-16T22:13:55.399Z"
   },
   {
    "duration": 1005,
    "start_time": "2023-02-16T22:13:55.913Z"
   },
   {
    "duration": 7,
    "start_time": "2023-02-16T22:13:56.920Z"
   },
   {
    "duration": 15,
    "start_time": "2023-02-16T22:13:56.928Z"
   },
   {
    "duration": 12,
    "start_time": "2023-02-16T22:13:56.945Z"
   },
   {
    "duration": 17,
    "start_time": "2023-02-16T22:13:56.959Z"
   },
   {
    "duration": 401,
    "start_time": "2023-02-16T22:13:57.095Z"
   },
   {
    "duration": 409,
    "start_time": "2023-02-16T22:13:57.509Z"
   },
   {
    "duration": 6,
    "start_time": "2023-02-16T22:13:58.149Z"
   },
   {
    "duration": 281,
    "start_time": "2023-02-16T22:13:58.621Z"
   },
   {
    "duration": 9,
    "start_time": "2023-02-16T22:18:21.108Z"
   },
   {
    "duration": 100,
    "start_time": "2023-02-16T22:19:00.331Z"
   },
   {
    "duration": 21,
    "start_time": "2023-02-16T22:19:10.361Z"
   },
   {
    "duration": 1382,
    "start_time": "2023-02-16T22:19:33.179Z"
   },
   {
    "duration": 10,
    "start_time": "2023-02-16T22:20:02.313Z"
   },
   {
    "duration": 5,
    "start_time": "2023-02-16T22:20:42.869Z"
   },
   {
    "duration": 15,
    "start_time": "2023-02-16T22:20:45.301Z"
   },
   {
    "duration": 18,
    "start_time": "2023-02-16T22:20:59.997Z"
   },
   {
    "duration": 103,
    "start_time": "2023-02-16T22:22:48.763Z"
   },
   {
    "duration": 77,
    "start_time": "2023-02-16T22:24:26.921Z"
   },
   {
    "duration": 2,
    "start_time": "2023-02-16T22:25:33.960Z"
   },
   {
    "duration": 758,
    "start_time": "2023-02-16T22:27:10.348Z"
   },
   {
    "duration": 772,
    "start_time": "2023-02-16T22:27:39.581Z"
   },
   {
    "duration": 869,
    "start_time": "2023-02-16T22:27:47.021Z"
   },
   {
    "duration": 132,
    "start_time": "2023-02-16T22:32:56.474Z"
   },
   {
    "duration": 21,
    "start_time": "2023-02-16T22:33:06.291Z"
   },
   {
    "duration": 23,
    "start_time": "2023-02-16T22:33:13.190Z"
   },
   {
    "duration": 78,
    "start_time": "2023-02-16T22:33:39.555Z"
   },
   {
    "duration": 87,
    "start_time": "2023-02-16T22:34:18.596Z"
   },
   {
    "duration": 16,
    "start_time": "2023-02-16T22:35:27.051Z"
   },
   {
    "duration": 12,
    "start_time": "2023-02-16T22:39:32.513Z"
   },
   {
    "duration": 1378,
    "start_time": "2023-02-16T22:39:40.684Z"
   },
   {
    "duration": 1586,
    "start_time": "2023-02-16T22:40:05.864Z"
   },
   {
    "duration": 40,
    "start_time": "2023-02-16T22:40:55.721Z"
   },
   {
    "duration": 381,
    "start_time": "2023-02-16T22:46:46.489Z"
   },
   {
    "duration": 196,
    "start_time": "2023-02-16T22:58:48.822Z"
   },
   {
    "duration": 312,
    "start_time": "2023-02-16T22:59:36.223Z"
   },
   {
    "duration": 205,
    "start_time": "2023-02-16T23:00:04.676Z"
   },
   {
    "duration": 242,
    "start_time": "2023-02-16T23:00:26.878Z"
   },
   {
    "duration": 236,
    "start_time": "2023-02-16T23:00:36.254Z"
   },
   {
    "duration": 255,
    "start_time": "2023-02-16T23:00:43.168Z"
   },
   {
    "duration": 10,
    "start_time": "2023-02-16T23:03:45.233Z"
   },
   {
    "duration": 15,
    "start_time": "2023-02-16T23:03:50.279Z"
   },
   {
    "duration": 237,
    "start_time": "2023-02-16T23:04:18.841Z"
   },
   {
    "duration": 16,
    "start_time": "2023-02-16T23:04:30.213Z"
   },
   {
    "duration": 324,
    "start_time": "2023-02-16T23:05:12.899Z"
   },
   {
    "duration": 79,
    "start_time": "2023-02-16T23:05:43.417Z"
   },
   {
    "duration": 203,
    "start_time": "2023-02-16T23:05:54.930Z"
   },
   {
    "duration": 198,
    "start_time": "2023-02-16T23:06:09.849Z"
   },
   {
    "duration": 237,
    "start_time": "2023-02-16T23:10:27.859Z"
   },
   {
    "duration": 224,
    "start_time": "2023-02-16T23:10:31.291Z"
   },
   {
    "duration": 241,
    "start_time": "2023-02-16T23:14:04.485Z"
   },
   {
    "duration": 87,
    "start_time": "2023-02-16T23:17:10.925Z"
   },
   {
    "duration": 81,
    "start_time": "2023-02-16T23:18:41.270Z"
   },
   {
    "duration": 174,
    "start_time": "2023-02-16T23:18:50.374Z"
   },
   {
    "duration": 190,
    "start_time": "2023-02-16T23:18:57.973Z"
   },
   {
    "duration": 173,
    "start_time": "2023-02-16T23:19:21.271Z"
   },
   {
    "duration": 99,
    "start_time": "2023-02-16T23:22:34.137Z"
   },
   {
    "duration": 110,
    "start_time": "2023-02-16T23:22:42.213Z"
   },
   {
    "duration": 343,
    "start_time": "2023-02-16T23:23:09.704Z"
   },
   {
    "duration": 235,
    "start_time": "2023-02-16T23:23:35.952Z"
   },
   {
    "duration": 6,
    "start_time": "2023-02-16T23:24:12.480Z"
   },
   {
    "duration": 222,
    "start_time": "2023-02-16T23:25:05.577Z"
   },
   {
    "duration": 256,
    "start_time": "2023-02-16T23:25:17.464Z"
   },
   {
    "duration": 248,
    "start_time": "2023-02-16T23:26:42.850Z"
   },
   {
    "duration": 203,
    "start_time": "2023-02-16T23:29:58.576Z"
   },
   {
    "duration": 228,
    "start_time": "2023-02-16T23:30:06.562Z"
   },
   {
    "duration": 231,
    "start_time": "2023-02-16T23:35:08.713Z"
   },
   {
    "duration": 234,
    "start_time": "2023-02-16T23:35:18.732Z"
   },
   {
    "duration": 230,
    "start_time": "2023-02-16T23:35:31.252Z"
   },
   {
    "duration": 68,
    "start_time": "2023-02-16T23:36:43.498Z"
   },
   {
    "duration": 12,
    "start_time": "2023-02-16T23:37:10.075Z"
   },
   {
    "duration": 11,
    "start_time": "2023-02-16T23:37:23.492Z"
   },
   {
    "duration": 10,
    "start_time": "2023-02-16T23:37:33.637Z"
   },
   {
    "duration": 10,
    "start_time": "2023-02-16T23:37:40.596Z"
   },
   {
    "duration": 11,
    "start_time": "2023-02-16T23:38:36.789Z"
   },
   {
    "duration": 13,
    "start_time": "2023-02-16T23:38:37.005Z"
   },
   {
    "duration": 10,
    "start_time": "2023-02-16T23:38:37.611Z"
   },
   {
    "duration": 11,
    "start_time": "2023-02-16T23:39:27.607Z"
   },
   {
    "duration": 10,
    "start_time": "2023-02-16T23:39:27.853Z"
   },
   {
    "duration": 10,
    "start_time": "2023-02-16T23:39:28.241Z"
   },
   {
    "duration": 1389,
    "start_time": "2023-02-17T15:41:34.501Z"
   },
   {
    "duration": 236,
    "start_time": "2023-02-17T15:41:35.892Z"
   },
   {
    "duration": 14,
    "start_time": "2023-02-17T15:41:36.129Z"
   },
   {
    "duration": 9,
    "start_time": "2023-02-17T15:41:36.145Z"
   },
   {
    "duration": 17,
    "start_time": "2023-02-17T15:41:36.155Z"
   },
   {
    "duration": 5,
    "start_time": "2023-02-17T15:41:36.174Z"
   },
   {
    "duration": 7,
    "start_time": "2023-02-17T15:41:36.611Z"
   },
   {
    "duration": 15,
    "start_time": "2023-02-17T15:41:37.070Z"
   },
   {
    "duration": 6,
    "start_time": "2023-02-17T15:41:37.297Z"
   },
   {
    "duration": 5,
    "start_time": "2023-02-17T15:41:38.078Z"
   },
   {
    "duration": 13,
    "start_time": "2023-02-17T15:41:38.274Z"
   },
   {
    "duration": 317,
    "start_time": "2023-02-17T15:41:38.686Z"
   },
   {
    "duration": 19,
    "start_time": "2023-02-17T15:41:39.282Z"
   },
   {
    "duration": 963,
    "start_time": "2023-02-17T15:41:39.840Z"
   },
   {
    "duration": 6,
    "start_time": "2023-02-17T15:41:40.805Z"
   },
   {
    "duration": 21,
    "start_time": "2023-02-17T15:41:40.812Z"
   },
   {
    "duration": 13,
    "start_time": "2023-02-17T15:41:40.958Z"
   },
   {
    "duration": 16,
    "start_time": "2023-02-17T15:41:41.182Z"
   },
   {
    "duration": 368,
    "start_time": "2023-02-17T15:41:41.382Z"
   },
   {
    "duration": 362,
    "start_time": "2023-02-17T15:41:41.771Z"
   },
   {
    "duration": 6,
    "start_time": "2023-02-17T15:41:42.425Z"
   },
   {
    "duration": 281,
    "start_time": "2023-02-17T15:41:42.683Z"
   },
   {
    "duration": 6,
    "start_time": "2023-02-17T15:41:43.098Z"
   },
   {
    "duration": 4,
    "start_time": "2023-02-17T15:41:43.786Z"
   },
   {
    "duration": 741,
    "start_time": "2023-02-17T15:41:43.974Z"
   },
   {
    "duration": 809,
    "start_time": "2023-02-17T15:41:44.717Z"
   },
   {
    "duration": 49,
    "start_time": "2023-02-17T15:41:45.528Z"
   },
   {
    "duration": 254,
    "start_time": "2023-02-17T15:41:45.579Z"
   },
   {
    "duration": 10,
    "start_time": "2023-02-17T15:41:45.944Z"
   },
   {
    "duration": 10,
    "start_time": "2023-02-17T15:41:46.137Z"
   },
   {
    "duration": 9,
    "start_time": "2023-02-17T15:41:46.320Z"
   },
   {
    "duration": 12,
    "start_time": "2023-02-17T15:41:46.800Z"
   },
   {
    "duration": 11,
    "start_time": "2023-02-17T15:41:46.992Z"
   },
   {
    "duration": 11,
    "start_time": "2023-02-17T15:41:47.212Z"
   },
   {
    "duration": 314,
    "start_time": "2023-02-17T15:43:03.070Z"
   },
   {
    "duration": 257,
    "start_time": "2023-02-17T15:43:24.994Z"
   },
   {
    "duration": 123,
    "start_time": "2023-02-17T15:44:16.002Z"
   },
   {
    "duration": 141,
    "start_time": "2023-02-17T15:50:20.397Z"
   },
   {
    "duration": 132,
    "start_time": "2023-02-17T15:50:53.934Z"
   },
   {
    "duration": 168,
    "start_time": "2023-02-17T15:52:02.006Z"
   },
   {
    "duration": 179,
    "start_time": "2023-02-17T15:52:10.710Z"
   },
   {
    "duration": 178,
    "start_time": "2023-02-17T15:54:23.131Z"
   },
   {
    "duration": 147,
    "start_time": "2023-02-17T15:54:34.185Z"
   },
   {
    "duration": 71,
    "start_time": "2023-02-17T15:55:26.849Z"
   },
   {
    "duration": 3,
    "start_time": "2023-02-17T15:58:27.254Z"
   },
   {
    "duration": 76,
    "start_time": "2023-02-17T15:58:27.693Z"
   },
   {
    "duration": 20,
    "start_time": "2023-02-17T15:58:33.640Z"
   },
   {
    "duration": 15,
    "start_time": "2023-02-17T15:58:36.087Z"
   },
   {
    "duration": 13,
    "start_time": "2023-02-17T15:58:37.091Z"
   },
   {
    "duration": 6,
    "start_time": "2023-02-17T15:58:37.921Z"
   },
   {
    "duration": 6,
    "start_time": "2023-02-17T15:58:40.711Z"
   },
   {
    "duration": 17,
    "start_time": "2023-02-17T15:58:41.753Z"
   },
   {
    "duration": 6,
    "start_time": "2023-02-17T15:58:43.232Z"
   },
   {
    "duration": 6,
    "start_time": "2023-02-17T15:58:45.015Z"
   },
   {
    "duration": 14,
    "start_time": "2023-02-17T15:58:46.239Z"
   },
   {
    "duration": 385,
    "start_time": "2023-02-17T15:58:48.809Z"
   },
   {
    "duration": 17,
    "start_time": "2023-02-17T15:59:01.000Z"
   },
   {
    "duration": 1335,
    "start_time": "2023-02-17T15:59:05.018Z"
   },
   {
    "duration": 8,
    "start_time": "2023-02-17T15:59:16.828Z"
   },
   {
    "duration": 15,
    "start_time": "2023-02-17T15:59:17.024Z"
   },
   {
    "duration": 14,
    "start_time": "2023-02-17T15:59:17.226Z"
   },
   {
    "duration": 20,
    "start_time": "2023-02-17T15:59:17.402Z"
   },
   {
    "duration": 434,
    "start_time": "2023-02-17T15:59:17.594Z"
   },
   {
    "duration": 362,
    "start_time": "2023-02-17T15:59:18.031Z"
   },
   {
    "duration": 6,
    "start_time": "2023-02-17T15:59:18.486Z"
   },
   {
    "duration": 293,
    "start_time": "2023-02-17T15:59:18.694Z"
   },
   {
    "duration": 7,
    "start_time": "2023-02-17T15:59:18.993Z"
   },
   {
    "duration": 3,
    "start_time": "2023-02-17T15:59:19.491Z"
   },
   {
    "duration": 888,
    "start_time": "2023-02-17T15:59:19.649Z"
   },
   {
    "duration": 822,
    "start_time": "2023-02-17T15:59:20.539Z"
   },
   {
    "duration": 54,
    "start_time": "2023-02-17T15:59:21.367Z"
   },
   {
    "duration": 265,
    "start_time": "2023-02-17T15:59:21.423Z"
   },
   {
    "duration": 159,
    "start_time": "2023-02-17T15:59:21.690Z"
   },
   {
    "duration": 147,
    "start_time": "2023-02-17T15:59:21.882Z"
   },
   {
    "duration": 191,
    "start_time": "2023-02-17T15:59:22.287Z"
   },
   {
    "duration": 12,
    "start_time": "2023-02-17T15:59:22.885Z"
   },
   {
    "duration": 12,
    "start_time": "2023-02-17T15:59:23.090Z"
   },
   {
    "duration": 124,
    "start_time": "2023-02-17T15:59:23.293Z"
   },
   {
    "duration": 249,
    "start_time": "2023-02-17T16:03:31.509Z"
   },
   {
    "duration": 202,
    "start_time": "2023-02-17T16:03:34.739Z"
   },
   {
    "duration": 160,
    "start_time": "2023-02-17T16:03:36.940Z"
   },
   {
    "duration": 47,
    "start_time": "2023-02-17T16:10:23.309Z"
   },
   {
    "duration": 5,
    "start_time": "2023-02-17T16:10:39.950Z"
   },
   {
    "duration": 3,
    "start_time": "2023-02-17T16:16:12.590Z"
   },
   {
    "duration": 8,
    "start_time": "2023-02-17T16:18:35.935Z"
   },
   {
    "duration": 23,
    "start_time": "2023-02-17T16:18:42.119Z"
   },
   {
    "duration": 98,
    "start_time": "2023-02-17T16:21:55.132Z"
   },
   {
    "duration": 15,
    "start_time": "2023-02-17T16:22:14.800Z"
   },
   {
    "duration": 181,
    "start_time": "2023-02-17T16:22:20.642Z"
   },
   {
    "duration": 48,
    "start_time": "2023-02-17T16:26:53.107Z"
   },
   {
    "duration": 208,
    "start_time": "2023-02-17T16:26:57.997Z"
   },
   {
    "duration": 197,
    "start_time": "2023-02-17T16:27:00.739Z"
   },
   {
    "duration": 201,
    "start_time": "2023-02-17T16:27:01.636Z"
   },
   {
    "duration": 6,
    "start_time": "2023-02-17T16:31:37.197Z"
   },
   {
    "duration": 224,
    "start_time": "2023-02-17T16:31:38.567Z"
   },
   {
    "duration": 189,
    "start_time": "2023-02-17T16:31:41.495Z"
   },
   {
    "duration": 188,
    "start_time": "2023-02-17T16:31:42.366Z"
   },
   {
    "duration": 53,
    "start_time": "2023-02-17T16:37:59.788Z"
   },
   {
    "duration": 9,
    "start_time": "2023-02-17T16:40:19.101Z"
   },
   {
    "duration": 3,
    "start_time": "2023-02-17T16:40:32.816Z"
   },
   {
    "duration": 18,
    "start_time": "2023-02-17T16:40:36.415Z"
   },
   {
    "duration": 9,
    "start_time": "2023-02-17T16:41:08.988Z"
   },
   {
    "duration": 10,
    "start_time": "2023-02-17T16:45:43.588Z"
   },
   {
    "duration": 4,
    "start_time": "2023-02-17T17:01:52.846Z"
   },
   {
    "duration": 60,
    "start_time": "2023-02-17T17:01:53.186Z"
   },
   {
    "duration": 19,
    "start_time": "2023-02-17T17:01:54.283Z"
   },
   {
    "duration": 10,
    "start_time": "2023-02-17T17:01:54.719Z"
   },
   {
    "duration": 16,
    "start_time": "2023-02-17T17:01:55.249Z"
   },
   {
    "duration": 8,
    "start_time": "2023-02-17T17:01:55.432Z"
   },
   {
    "duration": 9,
    "start_time": "2023-02-17T17:01:55.805Z"
   },
   {
    "duration": 21,
    "start_time": "2023-02-17T17:01:56.293Z"
   },
   {
    "duration": 6,
    "start_time": "2023-02-17T17:01:56.503Z"
   },
   {
    "duration": 7,
    "start_time": "2023-02-17T17:01:57.695Z"
   },
   {
    "duration": 15,
    "start_time": "2023-02-17T17:01:58.095Z"
   },
   {
    "duration": 18,
    "start_time": "2023-02-17T17:02:13.285Z"
   },
   {
    "duration": 989,
    "start_time": "2023-02-17T17:32:39.017Z"
   },
   {
    "duration": 11,
    "start_time": "2023-02-17T17:43:46.149Z"
   },
   {
    "duration": 1042,
    "start_time": "2023-02-18T11:30:43.337Z"
   },
   {
    "duration": 101,
    "start_time": "2023-02-18T11:30:44.383Z"
   },
   {
    "duration": 13,
    "start_time": "2023-02-18T11:30:44.486Z"
   },
   {
    "duration": 17,
    "start_time": "2023-02-18T11:30:44.500Z"
   },
   {
    "duration": 24,
    "start_time": "2023-02-18T11:30:44.518Z"
   },
   {
    "duration": 8,
    "start_time": "2023-02-18T11:30:44.544Z"
   },
   {
    "duration": 10,
    "start_time": "2023-02-18T11:30:44.553Z"
   },
   {
    "duration": 20,
    "start_time": "2023-02-18T11:30:44.564Z"
   },
   {
    "duration": 12,
    "start_time": "2023-02-18T11:30:44.586Z"
   },
   {
    "duration": 18,
    "start_time": "2023-02-18T11:30:44.600Z"
   },
   {
    "duration": 13,
    "start_time": "2023-02-18T11:30:44.620Z"
   },
   {
    "duration": 331,
    "start_time": "2023-02-18T11:30:44.635Z"
   },
   {
    "duration": 15,
    "start_time": "2023-02-18T11:30:44.967Z"
   },
   {
    "duration": 982,
    "start_time": "2023-02-18T11:30:44.983Z"
   },
   {
    "duration": 7,
    "start_time": "2023-02-18T11:30:45.967Z"
   },
   {
    "duration": 14,
    "start_time": "2023-02-18T11:30:45.975Z"
   },
   {
    "duration": 27,
    "start_time": "2023-02-18T11:30:45.990Z"
   },
   {
    "duration": 17,
    "start_time": "2023-02-18T11:30:46.018Z"
   },
   {
    "duration": 377,
    "start_time": "2023-02-18T11:30:46.036Z"
   },
   {
    "duration": 413,
    "start_time": "2023-02-18T11:30:46.415Z"
   },
   {
    "duration": 9,
    "start_time": "2023-02-18T11:30:46.830Z"
   },
   {
    "duration": 306,
    "start_time": "2023-02-18T11:30:46.841Z"
   },
   {
    "duration": 6,
    "start_time": "2023-02-18T11:30:47.148Z"
   },
   {
    "duration": 6,
    "start_time": "2023-02-18T11:30:47.156Z"
   },
   {
    "duration": 745,
    "start_time": "2023-02-18T11:30:47.164Z"
   },
   {
    "duration": 758,
    "start_time": "2023-02-18T11:30:47.911Z"
   },
   {
    "duration": 48,
    "start_time": "2023-02-18T11:30:48.671Z"
   },
   {
    "duration": 239,
    "start_time": "2023-02-18T11:30:48.722Z"
   },
   {
    "duration": 229,
    "start_time": "2023-02-18T11:30:48.962Z"
   },
   {
    "duration": 168,
    "start_time": "2023-02-18T11:30:49.192Z"
   },
   {
    "duration": 141,
    "start_time": "2023-02-18T11:30:49.361Z"
   },
   {
    "duration": 150,
    "start_time": "2023-02-18T11:30:49.504Z"
   },
   {
    "duration": 144,
    "start_time": "2023-02-18T11:30:49.655Z"
   },
   {
    "duration": 147,
    "start_time": "2023-02-18T11:30:49.800Z"
   },
   {
    "duration": 5,
    "start_time": "2023-02-18T11:30:49.948Z"
   },
   {
    "duration": 5,
    "start_time": "2023-02-18T11:30:49.954Z"
   },
   {
    "duration": 9,
    "start_time": "2023-02-18T11:30:49.960Z"
   },
   {
    "duration": 4,
    "start_time": "2023-02-18T11:30:49.970Z"
   },
   {
    "duration": 192,
    "start_time": "2023-02-18T11:30:49.976Z"
   },
   {
    "duration": 170,
    "start_time": "2023-02-18T11:30:50.169Z"
   },
   {
    "duration": 179,
    "start_time": "2023-02-18T11:30:50.340Z"
   },
   {
    "duration": 8,
    "start_time": "2023-02-18T11:30:50.521Z"
   },
   {
    "duration": 15,
    "start_time": "2023-02-18T11:30:50.531Z"
   },
   {
    "duration": 1212,
    "start_time": "2023-02-19T14:59:07.711Z"
   },
   {
    "duration": 202,
    "start_time": "2023-02-19T14:59:08.924Z"
   },
   {
    "duration": 15,
    "start_time": "2023-02-19T14:59:10.384Z"
   },
   {
    "duration": 9,
    "start_time": "2023-02-19T14:59:10.931Z"
   },
   {
    "duration": 14,
    "start_time": "2023-02-19T14:59:14.387Z"
   },
   {
    "duration": 5,
    "start_time": "2023-02-19T14:59:18.312Z"
   },
   {
    "duration": 7,
    "start_time": "2023-02-19T14:59:20.217Z"
   },
   {
    "duration": 16,
    "start_time": "2023-02-19T14:59:21.553Z"
   },
   {
    "duration": 7,
    "start_time": "2023-02-19T14:59:22.420Z"
   },
   {
    "duration": 47,
    "start_time": "2023-02-19T15:04:15.900Z"
   },
   {
    "duration": 45,
    "start_time": "2023-02-19T15:04:32.102Z"
   },
   {
    "duration": 44,
    "start_time": "2023-02-19T15:05:08.761Z"
   },
   {
    "duration": 57,
    "start_time": "2023-02-19T15:05:38.231Z"
   },
   {
    "duration": 44,
    "start_time": "2023-02-19T15:05:49.425Z"
   },
   {
    "duration": 63,
    "start_time": "2023-02-19T15:07:01.352Z"
   },
   {
    "duration": 3,
    "start_time": "2023-02-19T15:08:14.959Z"
   },
   {
    "duration": 61,
    "start_time": "2023-02-19T15:08:15.142Z"
   },
   {
    "duration": 12,
    "start_time": "2023-02-19T15:08:16.731Z"
   },
   {
    "duration": 4,
    "start_time": "2023-02-19T15:08:51.145Z"
   },
   {
    "duration": 61,
    "start_time": "2023-02-19T15:08:51.475Z"
   },
   {
    "duration": 14,
    "start_time": "2023-02-19T15:08:53.060Z"
   },
   {
    "duration": 12,
    "start_time": "2023-02-19T15:11:02.489Z"
   },
   {
    "duration": 8,
    "start_time": "2023-02-19T15:11:03.376Z"
   },
   {
    "duration": 12,
    "start_time": "2023-02-19T15:11:05.492Z"
   },
   {
    "duration": 6,
    "start_time": "2023-02-19T15:11:06.090Z"
   },
   {
    "duration": 7,
    "start_time": "2023-02-19T15:11:06.500Z"
   },
   {
    "duration": 15,
    "start_time": "2023-02-19T15:11:08.261Z"
   },
   {
    "duration": 5,
    "start_time": "2023-02-19T15:11:09.138Z"
   },
   {
    "duration": 7,
    "start_time": "2023-02-19T15:11:11.582Z"
   },
   {
    "duration": 14,
    "start_time": "2023-02-19T15:11:11.795Z"
   },
   {
    "duration": 343,
    "start_time": "2023-02-19T15:11:13.458Z"
   },
   {
    "duration": 17,
    "start_time": "2023-02-19T15:11:17.884Z"
   },
   {
    "duration": 1068,
    "start_time": "2023-02-19T15:11:19.834Z"
   },
   {
    "duration": 6,
    "start_time": "2023-02-19T15:14:17.010Z"
   },
   {
    "duration": 4,
    "start_time": "2023-02-19T15:14:44.069Z"
   },
   {
    "duration": 58,
    "start_time": "2023-02-19T15:14:44.260Z"
   },
   {
    "duration": 13,
    "start_time": "2023-02-19T15:14:44.764Z"
   },
   {
    "duration": 9,
    "start_time": "2023-02-19T15:14:45.077Z"
   },
   {
    "duration": 13,
    "start_time": "2023-02-19T15:14:45.588Z"
   },
   {
    "duration": 6,
    "start_time": "2023-02-19T15:14:45.950Z"
   },
   {
    "duration": 7,
    "start_time": "2023-02-19T15:14:46.328Z"
   },
   {
    "duration": 13,
    "start_time": "2023-02-19T15:14:46.872Z"
   },
   {
    "duration": 6,
    "start_time": "2023-02-19T15:14:47.025Z"
   },
   {
    "duration": 7,
    "start_time": "2023-02-19T15:14:49.267Z"
   },
   {
    "duration": 14,
    "start_time": "2023-02-19T15:14:49.496Z"
   },
   {
    "duration": 338,
    "start_time": "2023-02-19T15:14:49.876Z"
   },
   {
    "duration": 15,
    "start_time": "2023-02-19T15:14:56.849Z"
   },
   {
    "duration": 1104,
    "start_time": "2023-02-19T15:15:00.942Z"
   },
   {
    "duration": 6,
    "start_time": "2023-02-19T15:15:11.030Z"
   },
   {
    "duration": 16,
    "start_time": "2023-02-19T15:15:12.757Z"
   },
   {
    "duration": 14,
    "start_time": "2023-02-19T15:15:21.802Z"
   },
   {
    "duration": 15,
    "start_time": "2023-02-19T15:15:22.984Z"
   },
   {
    "duration": 324,
    "start_time": "2023-02-19T15:15:24.947Z"
   },
   {
    "duration": 290,
    "start_time": "2023-02-19T15:21:52.036Z"
   },
   {
    "duration": 311,
    "start_time": "2023-02-19T15:25:25.016Z"
   },
   {
    "duration": 397,
    "start_time": "2023-02-19T15:25:37.695Z"
   },
   {
    "duration": 288,
    "start_time": "2023-02-19T15:25:43.860Z"
   },
   {
    "duration": 328,
    "start_time": "2023-02-19T15:25:56.550Z"
   },
   {
    "duration": 284,
    "start_time": "2023-02-19T15:26:03.352Z"
   },
   {
    "duration": 290,
    "start_time": "2023-02-19T15:26:19.406Z"
   },
   {
    "duration": 401,
    "start_time": "2023-02-19T15:27:06.460Z"
   },
   {
    "duration": 6,
    "start_time": "2023-02-19T15:28:44.122Z"
   },
   {
    "duration": 311,
    "start_time": "2023-02-19T15:28:46.775Z"
   },
   {
    "duration": 5,
    "start_time": "2023-02-19T15:31:12.025Z"
   },
   {
    "duration": 321,
    "start_time": "2023-02-19T15:31:12.857Z"
   },
   {
    "duration": 3,
    "start_time": "2023-02-19T15:35:12.649Z"
   },
   {
    "duration": 60,
    "start_time": "2023-02-19T15:35:12.822Z"
   },
   {
    "duration": 13,
    "start_time": "2023-02-19T15:35:13.333Z"
   },
   {
    "duration": 10,
    "start_time": "2023-02-19T15:35:13.684Z"
   },
   {
    "duration": 11,
    "start_time": "2023-02-19T15:35:14.349Z"
   },
   {
    "duration": 5,
    "start_time": "2023-02-19T15:35:14.714Z"
   },
   {
    "duration": 10,
    "start_time": "2023-02-19T15:35:15.315Z"
   },
   {
    "duration": 15,
    "start_time": "2023-02-19T15:35:15.942Z"
   },
   {
    "duration": 8,
    "start_time": "2023-02-19T15:35:16.218Z"
   },
   {
    "duration": 7,
    "start_time": "2023-02-19T15:35:17.534Z"
   },
   {
    "duration": 14,
    "start_time": "2023-02-19T15:35:17.704Z"
   },
   {
    "duration": 325,
    "start_time": "2023-02-19T15:35:18.054Z"
   },
   {
    "duration": 16,
    "start_time": "2023-02-19T15:35:19.150Z"
   },
   {
    "duration": 1097,
    "start_time": "2023-02-19T15:35:21.834Z"
   },
   {
    "duration": 6,
    "start_time": "2023-02-19T15:35:25.843Z"
   },
   {
    "duration": 18,
    "start_time": "2023-02-19T15:35:26.252Z"
   },
   {
    "duration": 13,
    "start_time": "2023-02-19T15:35:28.763Z"
   },
   {
    "duration": 16,
    "start_time": "2023-02-19T15:35:29.299Z"
   },
   {
    "duration": 313,
    "start_time": "2023-02-19T15:35:30.873Z"
   },
   {
    "duration": 311,
    "start_time": "2023-02-19T15:35:33.552Z"
   },
   {
    "duration": 6,
    "start_time": "2023-02-19T15:35:40.932Z"
   },
   {
    "duration": 330,
    "start_time": "2023-02-19T15:35:42.020Z"
   },
   {
    "duration": 5,
    "start_time": "2023-02-19T15:36:13.678Z"
   },
   {
    "duration": 3,
    "start_time": "2023-02-19T15:37:40.532Z"
   },
   {
    "duration": 736,
    "start_time": "2023-02-19T15:37:46.940Z"
   },
   {
    "duration": 3,
    "start_time": "2023-02-19T15:38:42.069Z"
   },
   {
    "duration": 934,
    "start_time": "2023-02-19T15:38:42.675Z"
   },
   {
    "duration": 812,
    "start_time": "2023-02-19T15:38:45.466Z"
   },
   {
    "duration": 42,
    "start_time": "2023-02-19T15:38:46.450Z"
   },
   {
    "duration": 250,
    "start_time": "2023-02-19T15:41:03.024Z"
   },
   {
    "duration": 145,
    "start_time": "2023-02-19T15:41:25.303Z"
   },
   {
    "duration": 144,
    "start_time": "2023-02-19T15:41:39.366Z"
   },
   {
    "duration": 152,
    "start_time": "2023-02-19T15:41:59.449Z"
   },
   {
    "duration": 145,
    "start_time": "2023-02-19T15:42:31.961Z"
   },
   {
    "duration": 150,
    "start_time": "2023-02-19T15:42:34.273Z"
   },
   {
    "duration": 228,
    "start_time": "2023-02-19T15:42:37.200Z"
   },
   {
    "duration": 5,
    "start_time": "2023-02-19T15:42:43.808Z"
   },
   {
    "duration": 3,
    "start_time": "2023-02-19T15:42:44.300Z"
   },
   {
    "duration": 8,
    "start_time": "2023-02-19T15:42:44.879Z"
   },
   {
    "duration": 4,
    "start_time": "2023-02-19T15:42:45.433Z"
   },
   {
    "duration": 169,
    "start_time": "2023-02-19T15:42:46.507Z"
   },
   {
    "duration": 170,
    "start_time": "2023-02-19T15:42:48.925Z"
   },
   {
    "duration": 180,
    "start_time": "2023-02-19T15:42:50.877Z"
   },
   {
    "duration": 9,
    "start_time": "2023-02-19T15:43:27.484Z"
   },
   {
    "duration": 8,
    "start_time": "2023-02-19T15:43:32.023Z"
   },
   {
    "duration": 49,
    "start_time": "2023-02-19T15:48:38.638Z"
   }
  ],
  "kernelspec": {
   "display_name": "Python 3 (ipykernel)",
   "language": "python",
   "name": "python3"
  },
  "language_info": {
   "codemirror_mode": {
    "name": "ipython",
    "version": 3
   },
   "file_extension": ".py",
   "mimetype": "text/x-python",
   "name": "python",
   "nbconvert_exporter": "python",
   "pygments_lexer": "ipython3",
   "version": "3.9.13"
  },
  "toc": {
   "base_numbering": 1,
   "nav_menu": {},
   "number_sections": true,
   "sideBar": true,
   "skip_h1_title": true,
   "title_cell": "Table of Contents",
   "title_sidebar": "Contents",
   "toc_cell": false,
   "toc_position": {},
   "toc_section_display": true,
   "toc_window_display": false
  }
 },
 "nbformat": 4,
 "nbformat_minor": 2
}
